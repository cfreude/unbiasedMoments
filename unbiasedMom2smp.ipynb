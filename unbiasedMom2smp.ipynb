{
 "cells": [
  {
   "cell_type": "code",
   "execution_count": 1,
   "metadata": {
    "collapsed": false
   },
   "outputs": [],
   "source": [
    "from sympy import *\n",
    "import numpy as np\n",
    "init_printing(use_unicode = True)\n",
    "%load_ext rpy2.ipython "
   ]
  },
  {
   "cell_type": "code",
   "execution_count": 2,
   "metadata": {
    "collapsed": true
   },
   "outputs": [],
   "source": [
    "%%R\n",
    "source(\"functionsGenerateEdgeForPy.R\")"
   ]
  },
  {
   "cell_type": "code",
   "execution_count": 2,
   "metadata": {
    "collapsed": true
   },
   "outputs": [],
   "source": [
    "n, mu1, mu2, mu3, mu4, mu5, mu6, mu7, m2, m3, m4, m5, m6, X_i, X_j, X_k, Xbar = var('n, mu1, mu2, mu3, mu4, mu5, mu6, mu7, m2, m3, m4, m5, m6, X_i, X_j, X_k, Xbar')"
   ]
  },
  {
   "cell_type": "code",
   "execution_count": 3,
   "metadata": {
    "collapsed": false
   },
   "outputs": [],
   "source": [
    "m_x2, m_x3, m_x4, m_x5, m_x6, m_y2, m_y3, m_y4, m_y5, m_y6, n_x, n_y, Y_i, Y_j, Y_bar = var('m_x2, m_x3, m_x4, m_x5, m_x6, m_y2, m_y3, m_y4, m_y5, m_y6, n_x, n_y, Y_i, Y_j, Y_bar')\n",
    "Xbar2, Xbar3, Xbar4, Xbar5, Xbar6, Ybar, Ybar2, Ybar3, Ybar4, Ybar5, Ybar6 = var('Xbar2, Xbar3, Xbar4, Xbar5, Xbar6, Ybar, Ybar2, Ybar3, Ybar4, Ybar5, Ybar6')"
   ]
  },
  {
   "cell_type": "code",
   "execution_count": 4,
   "metadata": {
    "collapsed": true
   },
   "outputs": [],
   "source": [
    "#********************* 2nd moment ************************#"
   ]
  },
  {
   "cell_type": "code",
   "execution_count": 4,
   "metadata": {
    "collapsed": true
   },
   "outputs": [],
   "source": [
    "Em2 = mu2*(n - 1)/n"
   ]
  },
  {
   "cell_type": "code",
   "execution_count": 6,
   "metadata": {
    "collapsed": true
   },
   "outputs": [],
   "source": [
    "#********************* 3rd moment ************************#"
   ]
  },
  {
   "cell_type": "code",
   "execution_count": 5,
   "metadata": {
    "collapsed": false
   },
   "outputs": [],
   "source": [
    "# m3 biased (X_i - X_bar)**3"
   ]
  },
  {
   "cell_type": "code",
   "execution_count": 6,
   "metadata": {
    "collapsed": false
   },
   "outputs": [
    {
     "data": {
      "text/plain": [
       "[1] \" (1*n*mu3**1 ) / n**1 - 3* (1*n*mu3**1 ) / n**2 + 2* (1*n*mu3**1 ) / n**3\"\n"
      ]
     },
     "metadata": {},
     "output_type": "display_data"
    }
   ],
   "source": [
    "%%R\n",
    "### for E(m3):\n",
    "paste(one_combination(c(0, 0, 1)), \" - 3*\", one_combination(c(1, 1)), \" + 2*\", one_combination(3), sep = \"\")\n",
    "# note that parentheses are not needed here (but in general should be inserted for safety)"
   ]
  },
  {
   "cell_type": "code",
   "execution_count": 5,
   "metadata": {
    "collapsed": true
   },
   "outputs": [],
   "source": [
    "# E(m3) \n",
    "Em3 = (1*n*mu3**1 ) / n**1 - 3* (1*n*mu3**1 ) / n**2 + 2* (1*n*mu3**1 ) / n**3\n",
    "eq1 = -m3 + Em3"
   ]
  },
  {
   "cell_type": "code",
   "execution_count": 6,
   "metadata": {
    "collapsed": true
   },
   "outputs": [],
   "source": [
    "# solve for mu3"
   ]
  },
  {
   "cell_type": "code",
   "execution_count": 7,
   "metadata": {
    "collapsed": false
   },
   "outputs": [
    {
     "data": {
      "image/png": "[encoded data removed]",
      "text/latex": [
       "$$\\frac{m_{3} n^{2}}{\\left(n - 2\\right) \\left(n - 1\\right)}$$"
      ],
      "text/plain": [
       "         2     \n",
       "     m₃⋅n      \n",
       "───────────────\n",
       "(n - 2)⋅(n - 1)"
      ]
     },
     "execution_count": 7,
     "metadata": {},
     "output_type": "execute_result"
    }
   ],
   "source": [
    "sol = solve(eq1, mu3)\n",
    "# Unbiased estimate of mu3\n",
    "sol[0].factor()"
   ]
  },
  {
   "cell_type": "code",
   "execution_count": 8,
   "metadata": {
    "collapsed": true
   },
   "outputs": [],
   "source": [
    "# two-sample #"
   ]
  },
  {
   "cell_type": "code",
   "execution_count": 9,
   "metadata": {
    "collapsed": false
   },
   "outputs": [],
   "source": [
    "eq1xy = -m3 + (Em3.subs({n: n_x})*n_x + (Em3.subs({n: n_y}))*n_y)/(n_x + n_y) "
   ]
  },
  {
   "cell_type": "code",
   "execution_count": 10,
   "metadata": {
    "collapsed": false
   },
   "outputs": [
    {
     "data": {
      "image/png": "[encoded data removed]",
      "text/latex": [
       "$$\\frac{m_{3} n_{x} n_{y} \\left(n_{x} + n_{y}\\right)}{n_{x}^{2} n_{y} + n_{x} n_{y}^{2} - 6 n_{x} n_{y} + 2 n_{x} + 2 n_{y}}$$"
      ],
      "text/plain": [
       "            m₃⋅nₓ⋅n_y⋅(nₓ + n_y)           \n",
       "───────────────────────────────────────────\n",
       "  2             2                          \n",
       "nₓ ⋅n_y + nₓ⋅n_y  - 6⋅nₓ⋅n_y + 2⋅nₓ + 2⋅n_y"
      ]
     },
     "execution_count": 10,
     "metadata": {},
     "output_type": "execute_result"
    }
   ],
   "source": [
    "sol = solve(eq1xy, mu3)\n",
    "M3two = sol[0].expand().factor()\n",
    "M3two"
   ]
  },
  {
   "cell_type": "code",
   "execution_count": 11,
   "metadata": {
    "collapsed": false
   },
   "outputs": [
    {
     "data": {
      "image/png": "[encoded data removed]",
      "text/latex": [
       "$$\\frac{n_{x} n_{y} \\left(m_{x3} n_{x} + m_{y3} n_{y}\\right)}{n_{x}^{2} n_{y} + n_{x} n_{y}^{2} - 6 n_{x} n_{y} + 2 n_{x} + 2 n_{y}}$$"
      ],
      "text/plain": [
       "         nₓ⋅n_y⋅(mₓ₃⋅nₓ + m_y3⋅n_y)        \n",
       "───────────────────────────────────────────\n",
       "  2             2                          \n",
       "nₓ ⋅n_y + nₓ⋅n_y  - 6⋅nₓ⋅n_y + 2⋅nₓ + 2⋅n_y"
      ]
     },
     "execution_count": 11,
     "metadata": {},
     "output_type": "execute_result"
    }
   ],
   "source": [
    "M3two.subs(m3, (n_x*m_x3 + n_y*m_y3)/(n_x + n_y))"
   ]
  },
  {
   "cell_type": "code",
   "execution_count": 12,
   "metadata": {
    "collapsed": false
   },
   "outputs": [
    {
     "name": "stdout",
     "output_type": "stream",
     "text": [
      "m3*n_x*n_y*(n_x + n_y)/(n_x**2*n_y + n_x*n_y**2 - 6*n_x*n_y + 2*n_x + 2*n_y)\n"
     ]
    }
   ],
   "source": [
    "print(M3two)"
   ]
  },
  {
   "cell_type": "code",
   "execution_count": 13,
   "metadata": {
    "collapsed": true
   },
   "outputs": [],
   "source": [
    "#********************* 4th moment ************************#"
   ]
  },
  {
   "cell_type": "code",
   "execution_count": 22,
   "metadata": {
    "collapsed": false
   },
   "outputs": [
    {
     "data": {
      "image/png": "[encoded data removed]",
      "text/latex": [
       "$$X_{i}^{2} X_{j}^{2} - 2 X_{i}^{2} X_{j} \\bar{X} + X_{i}^{2} \\bar{X}^{2} - 2 X_{i} X_{j}^{2} \\bar{X} + 4 X_{i} X_{j} \\bar{X}^{2} - 2 X_{i} \\bar{X}^{3} + X_{j}^{2} \\bar{X}^{2} - 2 X_{j} \\bar{X}^{3} + \\bar{X}^{4}$$"
      ],
      "text/plain": [
       "  2    2       2            2   2           2                 2          3    \n",
       "Xᵢ ⋅X_j  - 2⋅Xᵢ ⋅X_j⋅X̅ + Xᵢ ⋅X̅  - 2⋅Xᵢ⋅X_j ⋅X̅ + 4⋅Xᵢ⋅X_j⋅X̅  - 2⋅Xᵢ⋅X̅  + X\n",
       "\n",
       "  2   2           3     4\n",
       "_j ⋅X̅  - 2⋅X_j⋅X̅  + X̅ "
      ]
     },
     "execution_count": 22,
     "metadata": {},
     "output_type": "execute_result"
    }
   ],
   "source": [
    "# m4    biased (X_i - X_bar)**4\n",
    "# m2**2 biased\n",
    "((X_i - Xbar)**2*(X_j - Xbar)**2).expand()"
   ]
  },
  {
   "cell_type": "code",
   "execution_count": 86,
   "metadata": {
    "collapsed": false
   },
   "outputs": [],
   "source": [
    "%%capture\n",
    "%%R\n",
    "### for E(m4):\n",
    "paste(one_combination(c(0, 0, 0, 1)), \" - 4*\", one_combination(c(1, 0, 1)), \" + 6*\", one_combination(c(2, 1)), \n",
    "      \" - 3*\", one_combination(4), sep = \"\")"
   ]
  },
  {
   "cell_type": "code",
   "execution_count": 87,
   "metadata": {
    "collapsed": false
   },
   "outputs": [],
   "source": [
    "%%capture\n",
    "%%R\n",
    "### for E(m2**2):\n",
    "paste(one_combination(c(0, 2)), \" - 2*\", one_combination(c(2, 1)), \" + \", one_combination(4), sep = \"\")"
   ]
  },
  {
   "cell_type": "code",
   "execution_count": 88,
   "metadata": {
    "collapsed": true
   },
   "outputs": [],
   "source": [
    "# solve system of equations for mu4 and mu2**2"
   ]
  },
  {
   "cell_type": "code",
   "execution_count": 14,
   "metadata": {
    "collapsed": false
   },
   "outputs": [],
   "source": [
    "# E(m4)\n",
    "Em4 = (1*n*mu4**1 ) / n**1 - 4* (1*n*mu4**1 ) / n**2 + 6* (1*n*(n-1)*mu2**2 + 1*n*mu4**1 ) / n**3 - 3* (3*n*(n-1)*mu2**2 + 1*n*mu4**1 ) / n**4\n",
    "eq1 = -m4 + Em4\n",
    "# E(m2**2)\n",
    "Em2pow2 = (1*n*(n-1)*mu2**2 + 1*n*mu4**1 ) / n**2 - 2* (1*n*(n-1)*mu2**2 + 1*n*mu4**1 ) / n**3 +  (3*n*(n-1)*mu2**2 + 1*n*mu4**1 ) / n**4\n",
    "# equations\n",
    "eq1 = -m4 + Em4\n",
    "eq2 = -m2**2 + Em2pow2"
   ]
  },
  {
   "cell_type": "code",
   "execution_count": 15,
   "metadata": {
    "collapsed": false
   },
   "outputs": [],
   "source": [
    "sol = solve([eq1, eq2], mu4, mu2)  # list\n",
    "M4 = sol[0][0]\n",
    "M2pow2 = (sol[0][1]**2)"
   ]
  },
  {
   "cell_type": "code",
   "execution_count": 16,
   "metadata": {
    "collapsed": false
   },
   "outputs": [
    {
     "data": {
      "image/png": "[encoded data removed]",
      "text/latex": [
       "$$- \\frac{3 m_{2}^{2} n \\left(2 n - 3\\right)}{\\left(n - 3\\right) \\left(n - 2\\right) \\left(n - 1\\right)} + \\frac{m_{4} n \\left(n^{2} - 2 n + 3\\right)}{\\left(n - 3\\right) \\left(n - 2\\right) \\left(n - 1\\right)}$$"
      ],
      "text/plain": [
       "         2                         ⎛ 2          ⎞  \n",
       "     3⋅m₂ ⋅n⋅(2⋅n - 3)        m₄⋅n⋅⎝n  - 2⋅n + 3⎠  \n",
       "- ─────────────────────── + ───────────────────────\n",
       "  (n - 3)⋅(n - 2)⋅(n - 1)   (n - 3)⋅(n - 2)⋅(n - 1)"
      ]
     },
     "execution_count": 16,
     "metadata": {},
     "output_type": "execute_result"
    }
   ],
   "source": [
    "# Unbiased estimate of mu4\n",
    "sum(list(map(factor, M4.expand().collect(m4).collect(m2).args)))"
   ]
  },
  {
   "cell_type": "code",
   "execution_count": 17,
   "metadata": {
    "collapsed": false
   },
   "outputs": [
    {
     "data": {
      "image/png": "[encoded data removed]",
      "text/latex": [
       "$$\\frac{m_{2}^{2} n \\left(n^{2} - 3 n + 3\\right)}{\\left(n - 3\\right) \\left(n - 2\\right) \\left(n - 1\\right)} - \\frac{m_{4} n}{\\left(n - 3\\right) \\left(n - 2\\right)}$$"
      ],
      "text/plain": [
       "    2   ⎛ 2          ⎞                   \n",
       "  m₂ ⋅n⋅⎝n  - 3⋅n + 3⎠          m₄⋅n     \n",
       "─────────────────────── - ───────────────\n",
       "(n - 3)⋅(n - 2)⋅(n - 1)   (n - 3)⋅(n - 2)"
      ]
     },
     "execution_count": 17,
     "metadata": {},
     "output_type": "execute_result"
    }
   ],
   "source": [
    "# Unbiased estimate of mu2**2\n",
    "sum(list(map(factor, M2pow2.expand().collect(m4).collect(m2).args)))"
   ]
  },
  {
   "cell_type": "code",
   "execution_count": 18,
   "metadata": {
    "collapsed": true
   },
   "outputs": [],
   "source": [
    "# two-sample #"
   ]
  },
  {
   "cell_type": "code",
   "execution_count": 19,
   "metadata": {
    "collapsed": false
   },
   "outputs": [],
   "source": [
    "m2pow2 = ((n_x*m_x2 + n_y*m_y2)**2).expand()"
   ]
  },
  {
   "cell_type": "code",
   "execution_count": 20,
   "metadata": {
    "collapsed": true
   },
   "outputs": [],
   "source": [
    "eq1xy = -m4 + (Em4.subs({n: n_x})*n_x + Em4.subs({n: n_y})*n_y)/(n_x + n_y) \n",
    "eq2xy = -m2**2 + (m2pow2.coeff(m_x2**2)*Em2pow2.subs(n, n_x) + m2pow2.coeff(m_y2**2)*Em2pow2.subs(n, n_y) + m2pow2.coeff(m_x2*m_y2)*Em2.subs(n, n_x)*Em2.subs(n, n_y))/(n_x + n_y)**2 "
   ]
  },
  {
   "cell_type": "code",
   "execution_count": 21,
   "metadata": {
    "collapsed": false
   },
   "outputs": [],
   "source": [
    "sol = solve([eq1xy, eq2xy], [mu4, mu2**2])  # dictionary\n",
    "M4two = sol[mu4]\n",
    "M2pow2two = sol[mu2**2]"
   ]
  },
  {
   "cell_type": "code",
   "execution_count": 22,
   "metadata": {
    "collapsed": false
   },
   "outputs": [
    {
     "data": {
      "image/png": "[encoded data removed]",
      "text/latex": [
       "$$\\frac{n_{x} n_{y} \\left(3 m_{2}^{2} \\left(n_{x}^{2} + 2 n_{x} n_{y} + n_{y}^{2}\\right) \\left(4 n_{x}^{2} n_{y}^{2} - 5 n_{x}^{2} n_{y} + 3 n_{x}^{2} - 5 n_{x} n_{y}^{2} + 3 n_{y}^{2}\\right) - m_{4} n_{x} n_{y} \\left(n_{x} + n_{y}\\right) \\left(n_{x}^{3} n_{y} + 2 n_{x}^{2} n_{y}^{2} - 5 n_{x}^{2} n_{y} + n_{x} n_{y}^{3} - 5 n_{x} n_{y}^{2} + 12 n_{x} n_{y} - 3 n_{x} - 3 n_{y}\\right)\\right)}{3 \\left(n_{x}^{2} n_{y} + n_{x} n_{y}^{2} - 4 n_{x} n_{y} + n_{x} + n_{y}\\right) \\left(4 n_{x}^{2} n_{y}^{2} - 5 n_{x}^{2} n_{y} + 3 n_{x}^{2} - 5 n_{x} n_{y}^{2} + 3 n_{y}^{2}\\right) - \\left(n_{x}^{3} n_{y}^{2} + n_{x}^{2} n_{y}^{3} - 8 n_{x}^{2} n_{y}^{2} + 6 n_{x}^{2} n_{y} - 3 n_{x}^{2} + 6 n_{x} n_{y}^{2} - 3 n_{y}^{2}\\right) \\left(n_{x}^{3} n_{y} + 2 n_{x}^{2} n_{y}^{2} - 5 n_{x}^{2} n_{y} + n_{x} n_{y}^{3} - 5 n_{x} n_{y}^{2} + 12 n_{x} n_{y} - 3 n_{x} - 3 n_{y}\\right)}$$"
      ],
      "text/plain": [
       "                                     ⎛    2 ⎛  2                 2⎞ ⎛    2    \n",
       "                              nₓ⋅n_y⋅⎝3⋅m₂ ⋅⎝nₓ  + 2⋅nₓ⋅n_y + n_y ⎠⋅⎝4⋅nₓ ⋅n_y\n",
       "──────────────────────────────────────────────────────────────────────────────\n",
       "  ⎛  2             2                      ⎞ ⎛    2    2       2           2   \n",
       "3⋅⎝nₓ ⋅n_y + nₓ⋅n_y  - 4⋅nₓ⋅n_y + nₓ + n_y⎠⋅⎝4⋅nₓ ⋅n_y  - 5⋅nₓ ⋅n_y + 3⋅nₓ  - \n",
       "\n",
       "2       2           2           2        2⎞                        ⎛  3       \n",
       "  - 5⋅nₓ ⋅n_y + 3⋅nₓ  - 5⋅nₓ⋅n_y  + 3⋅n_y ⎠ - m₄⋅nₓ⋅n_y⋅(nₓ + n_y)⋅⎝nₓ ⋅n_y + \n",
       "──────────────────────────────────────────────────────────────────────────────\n",
       "        2        2⎞   ⎛  3    2     2    3       2    2       2           2   \n",
       "5⋅nₓ⋅n_y  + 3⋅n_y ⎠ - ⎝nₓ ⋅n_y  + nₓ ⋅n_y  - 8⋅nₓ ⋅n_y  + 6⋅nₓ ⋅n_y - 3⋅nₓ  + \n",
       "\n",
       "    2    2       2             3           2                           ⎞⎞     \n",
       "2⋅nₓ ⋅n_y  - 5⋅nₓ ⋅n_y + nₓ⋅n_y  - 5⋅nₓ⋅n_y  + 12⋅nₓ⋅n_y - 3⋅nₓ - 3⋅n_y⎠⎠     \n",
       "──────────────────────────────────────────────────────────────────────────────\n",
       "        2        2⎞ ⎛  3           2    2       2             3           2   \n",
       "6⋅nₓ⋅n_y  - 3⋅n_y ⎠⋅⎝nₓ ⋅n_y + 2⋅nₓ ⋅n_y  - 5⋅nₓ ⋅n_y + nₓ⋅n_y  - 5⋅nₓ⋅n_y  + \n",
       "\n",
       "                         \n",
       "                         \n",
       "─────────────────────────\n",
       "                        ⎞\n",
       "12⋅nₓ⋅n_y - 3⋅nₓ - 3⋅n_y⎠"
      ]
     },
     "execution_count": 22,
     "metadata": {},
     "output_type": "execute_result"
    }
   ],
   "source": [
    "M4two#.factor()"
   ]
  },
  {
   "cell_type": "code",
   "execution_count": 22,
   "metadata": {
    "collapsed": false
   },
   "outputs": [
    {
     "data": {
      "image/png": "[encoded data removed]",
      "text/latex": [
       "$$\\frac{n_{x} n_{y} \\left(- m_{2}^{2} \\left(n_{x}^{2} + 2 n_{x} n_{y} + n_{y}^{2}\\right) \\left(n_{x}^{3} n_{y}^{2} + n_{x}^{2} n_{y}^{3} - 8 n_{x}^{2} n_{y}^{2} + 6 n_{x}^{2} n_{y} - 3 n_{x}^{2} + 6 n_{x} n_{y}^{2} - 3 n_{y}^{2}\\right) + m_{4} n_{x} n_{y} \\left(n_{x} + n_{y}\\right) \\left(n_{x}^{2} n_{y} + n_{x} n_{y}^{2} - 4 n_{x} n_{y} + n_{x} + n_{y}\\right)\\right)}{3 \\left(n_{x}^{2} n_{y} + n_{x} n_{y}^{2} - 4 n_{x} n_{y} + n_{x} + n_{y}\\right) \\left(4 n_{x}^{2} n_{y}^{2} - 5 n_{x}^{2} n_{y} + 3 n_{x}^{2} - 5 n_{x} n_{y}^{2} + 3 n_{y}^{2}\\right) - \\left(n_{x}^{3} n_{y}^{2} + n_{x}^{2} n_{y}^{3} - 8 n_{x}^{2} n_{y}^{2} + 6 n_{x}^{2} n_{y} - 3 n_{x}^{2} + 6 n_{x} n_{y}^{2} - 3 n_{y}^{2}\\right) \\left(n_{x}^{3} n_{y} + 2 n_{x}^{2} n_{y}^{2} - 5 n_{x}^{2} n_{y} + n_{x} n_{y}^{3} - 5 n_{x} n_{y}^{2} + 12 n_{x} n_{y} - 3 n_{x} - 3 n_{y}\\right)}$$"
      ],
      "text/plain": [
       "                                               ⎛    2 ⎛  2                 2⎞ \n",
       "                                        nₓ⋅n_y⋅⎝- m₂ ⋅⎝nₓ  + 2⋅nₓ⋅n_y + n_y ⎠⋅\n",
       "──────────────────────────────────────────────────────────────────────────────\n",
       "  ⎛  2             2                      ⎞ ⎛    2    2       2           2   \n",
       "3⋅⎝nₓ ⋅n_y + nₓ⋅n_y  - 4⋅nₓ⋅n_y + nₓ + n_y⎠⋅⎝4⋅nₓ ⋅n_y  - 5⋅nₓ ⋅n_y + 3⋅nₓ  - \n",
       "\n",
       "⎛  3    2     2    3       2    2       2           2           2        2⎞   \n",
       "⎝nₓ ⋅n_y  + nₓ ⋅n_y  - 8⋅nₓ ⋅n_y  + 6⋅nₓ ⋅n_y - 3⋅nₓ  + 6⋅nₓ⋅n_y  - 3⋅n_y ⎠ + \n",
       "──────────────────────────────────────────────────────────────────────────────\n",
       "        2        2⎞   ⎛  3    2     2    3       2    2       2           2   \n",
       "5⋅nₓ⋅n_y  + 3⋅n_y ⎠ - ⎝nₓ ⋅n_y  + nₓ ⋅n_y  - 8⋅nₓ ⋅n_y  + 6⋅nₓ ⋅n_y - 3⋅nₓ  + \n",
       "\n",
       "                     ⎛  2             2                      ⎞⎞               \n",
       "m₄⋅nₓ⋅n_y⋅(nₓ + n_y)⋅⎝nₓ ⋅n_y + nₓ⋅n_y  - 4⋅nₓ⋅n_y + nₓ + n_y⎠⎠               \n",
       "──────────────────────────────────────────────────────────────────────────────\n",
       "        2        2⎞ ⎛  3           2    2       2             3           2   \n",
       "6⋅nₓ⋅n_y  - 3⋅n_y ⎠⋅⎝nₓ ⋅n_y + 2⋅nₓ ⋅n_y  - 5⋅nₓ ⋅n_y + nₓ⋅n_y  - 5⋅nₓ⋅n_y  + \n",
       "\n",
       "                         \n",
       "                         \n",
       "─────────────────────────\n",
       "                        ⎞\n",
       "12⋅nₓ⋅n_y - 3⋅nₓ - 3⋅n_y⎠"
      ]
     },
     "execution_count": 22,
     "metadata": {},
     "output_type": "execute_result"
    }
   ],
   "source": [
    "M2pow2two"
   ]
  },
  {
   "cell_type": "code",
   "execution_count": 23,
   "metadata": {
    "collapsed": false
   },
   "outputs": [
    {
     "name": "stdout",
     "output_type": "stream",
     "text": [
      "n_x*n_y*(3*m2**2*(n_x**2 + 2*n_x*n_y + n_y**2)*(4*n_x**2*n_y**2 - 5*n_x**2*n_y + 3*n_x**2 - 5*n_x*n_y**2 + 3*n_y**2) - m4*n_x*n_y*(n_x + n_y)*(n_x**3*n_y + 2*n_x**2*n_y**2 - 5*n_x**2*n_y + n_x*n_y**3 - 5*n_x*n_y**2 + 12*n_x*n_y - 3*n_x - 3*n_y))/(3*(n_x**2*n_y + n_x*n_y**2 - 4*n_x*n_y + n_x + n_y)*(4*n_x**2*n_y**2 - 5*n_x**2*n_y + 3*n_x**2 - 5*n_x*n_y**2 + 3*n_y**2) - (n_x**3*n_y**2 + n_x**2*n_y**3 - 8*n_x**2*n_y**2 + 6*n_x**2*n_y - 3*n_x**2 + 6*n_x*n_y**2 - 3*n_y**2)*(n_x**3*n_y + 2*n_x**2*n_y**2 - 5*n_x**2*n_y + n_x*n_y**3 - 5*n_x*n_y**2 + 12*n_x*n_y - 3*n_x - 3*n_y))\n"
     ]
    }
   ],
   "source": [
    "print(M4two)"
   ]
  },
  {
   "cell_type": "code",
   "execution_count": 24,
   "metadata": {
    "collapsed": false
   },
   "outputs": [
    {
     "name": "stdout",
     "output_type": "stream",
     "text": [
      "n_x*n_y*(-m2**2*(n_x**2 + 2*n_x*n_y + n_y**2)*(n_x**3*n_y**2 + n_x**2*n_y**3 - 8*n_x**2*n_y**2 + 6*n_x**2*n_y - 3*n_x**2 + 6*n_x*n_y**2 - 3*n_y**2) + m4*n_x*n_y*(n_x + n_y)*(n_x**2*n_y + n_x*n_y**2 - 4*n_x*n_y + n_x + n_y))/(3*(n_x**2*n_y + n_x*n_y**2 - 4*n_x*n_y + n_x + n_y)*(4*n_x**2*n_y**2 - 5*n_x**2*n_y + 3*n_x**2 - 5*n_x*n_y**2 + 3*n_y**2) - (n_x**3*n_y**2 + n_x**2*n_y**3 - 8*n_x**2*n_y**2 + 6*n_x**2*n_y - 3*n_x**2 + 6*n_x*n_y**2 - 3*n_y**2)*(n_x**3*n_y + 2*n_x**2*n_y**2 - 5*n_x**2*n_y + n_x*n_y**3 - 5*n_x*n_y**2 + 12*n_x*n_y - 3*n_x - 3*n_y))\n"
     ]
    }
   ],
   "source": [
    "print(M2pow2two)"
   ]
  },
  {
   "cell_type": "code",
   "execution_count": 19,
   "metadata": {
    "collapsed": true
   },
   "outputs": [],
   "source": [
    "#********************* 5th moment ************************#"
   ]
  },
  {
   "cell_type": "code",
   "execution_count": 123,
   "metadata": {
    "collapsed": false
   },
   "outputs": [
    {
     "data": {
      "image/png": "[encoded data removed]",
      "text/latex": [
       "$$X_{i}^{2} X_{j}^{3} - 3 X_{i}^{2} X_{j}^{2} \\bar{X} + 3 X_{i}^{2} X_{j} \\bar{X}^{2} - X_{i}^{2} \\bar{X}^{3} - 2 X_{i} X_{j}^{3} \\bar{X} + 6 X_{i} X_{j}^{2} \\bar{X}^{2} - 6 X_{i} X_{j} \\bar{X}^{3} + 2 X_{i} \\bar{X}^{4} + X_{j}^{3} \\bar{X}^{2} - 3 X_{j}^{2} \\bar{X}^{3} + 3 X_{j} \\bar{X}^{4} - \\bar{X}^{5}$$"
      ],
      "text/plain": [
       "  2    3       2    2          2       2     2   3           3              2 \n",
       "Xᵢ ⋅X_j  - 3⋅Xᵢ ⋅X_j ⋅X̅ + 3⋅Xᵢ ⋅X_j⋅X̅  - Xᵢ ⋅X̅  - 2⋅Xᵢ⋅X_j ⋅X̅ + 6⋅Xᵢ⋅X_j ⋅\n",
       "\n",
       "  2              3          4      3   2        2   3           4     5\n",
       "X̅  - 6⋅Xᵢ⋅X_j⋅X̅  + 2⋅Xᵢ⋅X̅  + X_j ⋅X̅  - 3⋅X_j ⋅X̅  + 3⋅X_j⋅X̅  - X̅ "
      ]
     },
     "execution_count": 123,
     "metadata": {},
     "output_type": "execute_result"
    }
   ],
   "source": [
    "# m5    biased (X_i - X_bar)**5\n",
    "# m2*m3 biased\n",
    "((X_i - Xbar)**2*(X_j - Xbar)**3).expand()"
   ]
  },
  {
   "cell_type": "code",
   "execution_count": 21,
   "metadata": {
    "collapsed": false
   },
   "outputs": [],
   "source": [
    "%%capture\n",
    "%%R\n",
    "### for E(m5):\n",
    "paste(one_combination(c(rep(0, 4), 1)), \" - 5*\", one_combination(c(1, 0, 0, 1)), \" + 10*\", \n",
    "      one_combination(c(2, 0, 1)), \" - 10*\", one_combination(c(3, 1)), \" + 4*\", one_combination(5), sep = \"\")"
   ]
  },
  {
   "cell_type": "code",
   "execution_count": 22,
   "metadata": {
    "collapsed": false
   },
   "outputs": [],
   "source": [
    "%%capture\n",
    "%%R\n",
    "### for E(m2*m3):\n",
    "paste(one_combination(c(0, 1, 1)), \" - \", one_combination(c(2, 0, 1)), \" - 3*\", one_combination(c(1, 2)), \" + 5*\",\n",
    "      one_combination(c(3, 1)), \" - 2*\", one_combination(5), sep = \"\")"
   ]
  },
  {
   "cell_type": "code",
   "execution_count": 23,
   "metadata": {
    "collapsed": true
   },
   "outputs": [],
   "source": [
    "# solve system of equations for mu5 and mu2*mu3"
   ]
  },
  {
   "cell_type": "code",
   "execution_count": 23,
   "metadata": {
    "collapsed": false
   },
   "outputs": [],
   "source": [
    "# E(m5)\n",
    "Em5 = (1*n*mu5**1 ) / n**1 - 5* (1*n*mu5**1 ) / n**2 + 10* (1*n*(n-1)*mu3**1*mu2**1 + 1*n*mu5**1 ) / n**3 - 10* (4*n*(n-1)*mu3**1*mu2**1 + 1*n*mu5**1 ) / n**4 + 4* (10*n*(n-1)*mu3**1*mu2**1 +  1*n*mu5**1 ) / n**5\n",
    "eq1 = -m5 + Em5\n",
    "# E(m2*m3)\n",
    "Em2m3 = (1*n*(n-1)*mu3**1*mu2**1 + 1*n*mu5**1 ) / n**2 -  (1*n*(n-1)*mu3**1*mu2**1 + 1*n*mu5**1 ) / n**3 - 3* (2*n*(n-1)*mu3**1*mu2**1 + 1*n*mu5**1 ) / n**3 + 5* (4*n*(n-1)*mu3**1*mu2**1 + 1*n*mu5**1 ) / n**4 - 2* (10*n*(n-1)*mu3**1*mu2**1 +  1*n*mu5**1 ) / n**5\n",
    "# equations\n",
    "eq1 = -m5 + Em5\n",
    "eq2 = -m2*m3 + Em2m3"
   ]
  },
  {
   "cell_type": "code",
   "execution_count": 24,
   "metadata": {
    "collapsed": false
   },
   "outputs": [],
   "source": [
    "sol = solve([eq1, eq2], [mu5, mu2*mu3])  # dictionary\n",
    "M5 = sol[mu5]\n",
    "M2M3 = sol[mu2*mu3]"
   ]
  },
  {
   "cell_type": "code",
   "execution_count": 25,
   "metadata": {
    "collapsed": false
   },
   "outputs": [
    {
     "data": {
      "image/png": "[encoded data removed]",
      "text/latex": [
       "$$- \\frac{10 m_{2} m_{3} n^{2}}{\\left(n - 4\\right) \\left(n - 3\\right) \\left(n - 1\\right)} + \\frac{m_{5} n^{2} \\left(n^{2} - 5 n + 10\\right)}{\\left(n - 4\\right) \\left(n - 3\\right) \\left(n - 2\\right) \\left(n - 1\\right)}$$"
      ],
      "text/plain": [
       "                  2                  2 ⎛ 2           ⎞     \n",
       "        10⋅m₂⋅m₃⋅n               m₅⋅n ⋅⎝n  - 5⋅n + 10⎠     \n",
       "- ─────────────────────── + ───────────────────────────────\n",
       "  (n - 4)⋅(n - 3)⋅(n - 1)   (n - 4)⋅(n - 3)⋅(n - 2)⋅(n - 1)"
      ]
     },
     "execution_count": 25,
     "metadata": {},
     "output_type": "execute_result"
    }
   ],
   "source": [
    "# Unbiased estimate of mu5\n",
    "sum(list(map(factor, M5.expand().collect(m5).collect(m2*m3).args)))"
   ]
  },
  {
   "cell_type": "code",
   "execution_count": 26,
   "metadata": {
    "collapsed": false
   },
   "outputs": [
    {
     "data": {
      "image/png": "[encoded data removed]",
      "text/latex": [
       "$$\\frac{m_{2} m_{3} n^{2} \\left(n^{2} - 2 n + 2\\right)}{\\left(n - 4\\right) \\left(n - 3\\right) \\left(n - 2\\right) \\left(n - 1\\right)} - \\frac{m_{5} n^{2}}{\\left(n - 4\\right) \\left(n - 3\\right) \\left(n - 2\\right)}$$"
      ],
      "text/plain": [
       "           2 ⎛ 2          ⎞                    2         \n",
       "    m₂⋅m₃⋅n ⋅⎝n  - 2⋅n + 2⎠                m₅⋅n          \n",
       "─────────────────────────────── - ───────────────────────\n",
       "(n - 4)⋅(n - 3)⋅(n - 2)⋅(n - 1)   (n - 4)⋅(n - 3)⋅(n - 2)"
      ]
     },
     "execution_count": 26,
     "metadata": {},
     "output_type": "execute_result"
    }
   ],
   "source": [
    "# Unbiased estimate of mu2*mu3\n",
    "sum(list(map(factor, M2M3.expand().collect(m5).collect(m2*m3).args)))"
   ]
  },
  {
   "cell_type": "code",
   "execution_count": 27,
   "metadata": {
    "collapsed": true
   },
   "outputs": [],
   "source": [
    "# two-sample #"
   ]
  },
  {
   "cell_type": "code",
   "execution_count": 28,
   "metadata": {
    "collapsed": false
   },
   "outputs": [
    {
     "data": {
      "image/png": "[encoded data removed]",
      "text/latex": [
       "$$m_{x2} m_{x3} n_{x}^{2} + m_{x2} m_{y3} n_{x} n_{y} + m_{x3} m_{y2} n_{x} n_{y} + m_{y2} m_{y3} n_{y}^{2}$$"
      ],
      "text/plain": [
       "          2                                                    2\n",
       "mₓ₂⋅mₓ₃⋅nₓ  + mₓ₂⋅m_y3⋅nₓ⋅n_y + mₓ₃⋅m_y2⋅nₓ⋅n_y + m_y2⋅m_y3⋅n_y "
      ]
     },
     "execution_count": 28,
     "metadata": {},
     "output_type": "execute_result"
    }
   ],
   "source": [
    "m2m3 = ((n_x*m_x2 + n_y*m_y2)*(n_x*m_x3 + n_y*m_y3)).expand()\n",
    "m2m3"
   ]
  },
  {
   "cell_type": "code",
   "execution_count": 29,
   "metadata": {
    "collapsed": true
   },
   "outputs": [],
   "source": [
    "eq1xy = -m5 + (Em5.subs({n: n_x})*n_x + Em5.subs({n: n_y})*n_y)/(n_x + n_y) \n",
    "eq2xy = -m2*m3 + (m2m3.coeff(m_x2*m_x3)*Em2m3.subs(n, n_x) + m2m3.coeff(m_y2*m_y3)*Em2m3.subs(n, n_y) + m2m3.coeff(m_x3*m_y2)*Em3.subs(n, n_x)*Em2.subs(n, n_y) + m2m3.coeff(m_x2*m_y3)*Em2.subs(n, n_x)*Em3.subs(n, n_y))    /(n_x + n_y)**2 "
   ]
  },
  {
   "cell_type": "code",
   "execution_count": 30,
   "metadata": {
    "collapsed": false
   },
   "outputs": [],
   "source": [
    "sol = solve([eq1xy.simplify(), eq2xy.simplify()], mu5, mu2*mu3)  # dictionary\n",
    "M5two = sol[mu5]\n",
    "M2M3two = sol[mu2*mu3]"
   ]
  },
  {
   "cell_type": "code",
   "execution_count": 31,
   "metadata": {
    "collapsed": false
   },
   "outputs": [
    {
     "data": {
      "image/png": "[encoded data removed]",
      "text/latex": [
       "$$\\frac{n_{x}^{2} n_{y}^{2} \\left(10 m_{2} m_{3} \\left(n_{x}^{2} + 2 n_{x} n_{y} + n_{y}^{2}\\right) \\left(- 2 n_{x}^{3} n_{y}^{3} + 5 n_{x}^{3} n_{y}^{2} - 8 n_{x}^{3} n_{y} + 4 n_{x}^{3} + 5 n_{x}^{2} n_{y}^{3} - 8 n_{x} n_{y}^{3} + 4 n_{y}^{3}\\right) + m_{5} n_{x} n_{y} \\left(n_{x} + n_{y}\\right) \\left(n_{x}^{4} n_{y}^{2} + 2 n_{x}^{3} n_{y}^{3} - 12 n_{x}^{3} n_{y}^{2} + 2 n_{x}^{3} n_{y} + n_{x}^{2} n_{y}^{4} - 12 n_{x}^{2} n_{y}^{3} + 60 n_{x}^{2} n_{y}^{2} - 42 n_{x}^{2} n_{y} + 20 n_{x}^{2} + 2 n_{x} n_{y}^{3} - 42 n_{x} n_{y}^{2} + 20 n_{y}^{2}\\right)\\right)}{10 \\left(n_{x}^{3} n_{y}^{2} + n_{x}^{2} n_{y}^{3} - 8 n_{x}^{2} n_{y}^{2} + 5 n_{x}^{2} n_{y} - 2 n_{x}^{2} + 5 n_{x} n_{y}^{2} - 2 n_{y}^{2}\\right) \\left(- 2 n_{x}^{3} n_{y}^{3} + 5 n_{x}^{3} n_{y}^{2} - 8 n_{x}^{3} n_{y} + 4 n_{x}^{3} + 5 n_{x}^{2} n_{y}^{3} - 8 n_{x} n_{y}^{3} + 4 n_{y}^{3}\\right) + \\left(n_{x}^{4} n_{y}^{3} + n_{x}^{3} n_{y}^{4} - 10 n_{x}^{3} n_{y}^{3} + 10 n_{x}^{3} n_{y}^{2} - 10 n_{x}^{3} n_{y} + 4 n_{x}^{3} + 10 n_{x}^{2} n_{y}^{3} - 10 n_{x} n_{y}^{3} + 4 n_{y}^{3}\\right) \\left(n_{x}^{4} n_{y}^{2} + 2 n_{x}^{3} n_{y}^{3} - 12 n_{x}^{3} n_{y}^{2} + 2 n_{x}^{3} n_{y} + n_{x}^{2} n_{y}^{4} - 12 n_{x}^{2} n_{y}^{3} + 60 n_{x}^{2} n_{y}^{2} - 42 n_{x}^{2} n_{y} + 20 n_{x}^{2} + 2 n_{x} n_{y}^{3} - 42 n_{x} n_{y}^{2} + 20 n_{y}^{2}\\right)}$$"
      ],
      "text/plain": [
       "                                                               2    2 ⎛       \n",
       "                                                             nₓ ⋅n_y ⋅⎝10⋅m₂⋅m\n",
       "──────────────────────────────────────────────────────────────────────────────\n",
       "   ⎛  3    2     2    3       2    2       2           2           2        2⎞\n",
       "10⋅⎝nₓ ⋅n_y  + nₓ ⋅n_y  - 8⋅nₓ ⋅n_y  + 5⋅nₓ ⋅n_y - 2⋅nₓ  + 5⋅nₓ⋅n_y  - 2⋅n_y ⎠\n",
       "\n",
       "  ⎛  2                 2⎞ ⎛      3    3       3    2       3           3      \n",
       "₃⋅⎝nₓ  + 2⋅nₓ⋅n_y + n_y ⎠⋅⎝- 2⋅nₓ ⋅n_y  + 5⋅nₓ ⋅n_y  - 8⋅nₓ ⋅n_y + 4⋅nₓ  + 5⋅n\n",
       "──────────────────────────────────────────────────────────────────────────────\n",
       " ⎛      3    3       3    2       3           3       2    3           3      \n",
       "⋅⎝- 2⋅nₓ ⋅n_y  + 5⋅nₓ ⋅n_y  - 8⋅nₓ ⋅n_y + 4⋅nₓ  + 5⋅nₓ ⋅n_y  - 8⋅nₓ⋅n_y  + 4⋅n\n",
       "\n",
       " 2    3           3        3⎞                        ⎛  4    2       3    3   \n",
       "ₓ ⋅n_y  - 8⋅nₓ⋅n_y  + 4⋅n_y ⎠ + m₅⋅nₓ⋅n_y⋅(nₓ + n_y)⋅⎝nₓ ⋅n_y  + 2⋅nₓ ⋅n_y  - \n",
       "──────────────────────────────────────────────────────────────────────────────\n",
       "  3⎞   ⎛  4    3     3    4        3    3        3    2        3           3  \n",
       "_y ⎠ + ⎝nₓ ⋅n_y  + nₓ ⋅n_y  - 10⋅nₓ ⋅n_y  + 10⋅nₓ ⋅n_y  - 10⋅nₓ ⋅n_y + 4⋅nₓ  +\n",
       "\n",
       "     3    2       3         2    4        2    3        2    2        2       \n",
       "12⋅nₓ ⋅n_y  + 2⋅nₓ ⋅n_y + nₓ ⋅n_y  - 12⋅nₓ ⋅n_y  + 60⋅nₓ ⋅n_y  - 42⋅nₓ ⋅n_y + \n",
       "──────────────────────────────────────────────────────────────────────────────\n",
       "      2    3            3        3⎞ ⎛  4    2       3    3        3    2      \n",
       " 10⋅nₓ ⋅n_y  - 10⋅nₓ⋅n_y  + 4⋅n_y ⎠⋅⎝nₓ ⋅n_y  + 2⋅nₓ ⋅n_y  - 12⋅nₓ ⋅n_y  + 2⋅n\n",
       "\n",
       "     2           3            2         2⎞⎞                                   \n",
       "20⋅nₓ  + 2⋅nₓ⋅n_y  - 42⋅nₓ⋅n_y  + 20⋅n_y ⎠⎠                                   \n",
       "──────────────────────────────────────────────────────────────────────────────\n",
       " 3         2    4        2    3        2    2        2            2           \n",
       "ₓ ⋅n_y + nₓ ⋅n_y  - 12⋅nₓ ⋅n_y  + 60⋅nₓ ⋅n_y  - 42⋅nₓ ⋅n_y + 20⋅nₓ  + 2⋅nₓ⋅n_y\n",
       "\n",
       "                         \n",
       "                         \n",
       "─────────────────────────\n",
       "3            2         2⎞\n",
       "  - 42⋅nₓ⋅n_y  + 20⋅n_y ⎠"
      ]
     },
     "execution_count": 31,
     "metadata": {},
     "output_type": "execute_result"
    }
   ],
   "source": [
    "M5two"
   ]
  },
  {
   "cell_type": "code",
   "execution_count": 34,
   "metadata": {
    "collapsed": false
   },
   "outputs": [
    {
     "data": {
      "image/png": "[encoded data removed]",
      "text/latex": [
       "$$\\frac{n_{x}^{2} n_{y}^{2} \\left(m_{2} m_{3} \\left(n_{x}^{2} + 2 n_{x} n_{y} + n_{y}^{2}\\right) \\left(n_{x}^{4} n_{y}^{3} + n_{x}^{3} n_{y}^{4} - 10 n_{x}^{3} n_{y}^{3} + 10 n_{x}^{3} n_{y}^{2} - 10 n_{x}^{3} n_{y} + 4 n_{x}^{3} + 10 n_{x}^{2} n_{y}^{3} - 10 n_{x} n_{y}^{3} + 4 n_{y}^{3}\\right) - m_{5} n_{x} n_{y} \\left(n_{x} + n_{y}\\right) \\left(n_{x}^{3} n_{y}^{2} + n_{x}^{2} n_{y}^{3} - 8 n_{x}^{2} n_{y}^{2} + 5 n_{x}^{2} n_{y} - 2 n_{x}^{2} + 5 n_{x} n_{y}^{2} - 2 n_{y}^{2}\\right)\\right)}{10 \\left(n_{x}^{3} n_{y}^{2} + n_{x}^{2} n_{y}^{3} - 8 n_{x}^{2} n_{y}^{2} + 5 n_{x}^{2} n_{y} - 2 n_{x}^{2} + 5 n_{x} n_{y}^{2} - 2 n_{y}^{2}\\right) \\left(- 2 n_{x}^{3} n_{y}^{3} + 5 n_{x}^{3} n_{y}^{2} - 8 n_{x}^{3} n_{y} + 4 n_{x}^{3} + 5 n_{x}^{2} n_{y}^{3} - 8 n_{x} n_{y}^{3} + 4 n_{y}^{3}\\right) + \\left(n_{x}^{4} n_{y}^{3} + n_{x}^{3} n_{y}^{4} - 10 n_{x}^{3} n_{y}^{3} + 10 n_{x}^{3} n_{y}^{2} - 10 n_{x}^{3} n_{y} + 4 n_{x}^{3} + 10 n_{x}^{2} n_{y}^{3} - 10 n_{x} n_{y}^{3} + 4 n_{y}^{3}\\right) \\left(n_{x}^{4} n_{y}^{2} + 2 n_{x}^{3} n_{y}^{3} - 12 n_{x}^{3} n_{y}^{2} + 2 n_{x}^{3} n_{y} + n_{x}^{2} n_{y}^{4} - 12 n_{x}^{2} n_{y}^{3} + 60 n_{x}^{2} n_{y}^{2} - 42 n_{x}^{2} n_{y} + 20 n_{x}^{2} + 2 n_{x} n_{y}^{3} - 42 n_{x} n_{y}^{2} + 20 n_{y}^{2}\\right)}$$"
      ],
      "text/plain": [
       "                                                                              \n",
       "                                                                              \n",
       "──────────────────────────────────────────────────────────────────────────────\n",
       "   ⎛  3    2     2    3       2    2       2           2           2        2⎞\n",
       "10⋅⎝nₓ ⋅n_y  + nₓ ⋅n_y  - 8⋅nₓ ⋅n_y  + 5⋅nₓ ⋅n_y - 2⋅nₓ  + 5⋅nₓ⋅n_y  - 2⋅n_y ⎠\n",
       "\n",
       "         2    2 ⎛      ⎛  2                 2⎞ ⎛  4    3     3    4        3  \n",
       "       nₓ ⋅n_y ⋅⎝m₂⋅m₃⋅⎝nₓ  + 2⋅nₓ⋅n_y + n_y ⎠⋅⎝nₓ ⋅n_y  + nₓ ⋅n_y  - 10⋅nₓ ⋅n\n",
       "──────────────────────────────────────────────────────────────────────────────\n",
       " ⎛      3    3       3    2       3           3       2    3           3      \n",
       "⋅⎝- 2⋅nₓ ⋅n_y  + 5⋅nₓ ⋅n_y  - 8⋅nₓ ⋅n_y + 4⋅nₓ  + 5⋅nₓ ⋅n_y  - 8⋅nₓ⋅n_y  + 4⋅n\n",
       "\n",
       "  3        3    2        3           3        2    3            3        3⎞   \n",
       "_y  + 10⋅nₓ ⋅n_y  - 10⋅nₓ ⋅n_y + 4⋅nₓ  + 10⋅nₓ ⋅n_y  - 10⋅nₓ⋅n_y  + 4⋅n_y ⎠ - \n",
       "──────────────────────────────────────────────────────────────────────────────\n",
       "  3⎞   ⎛  4    3     3    4        3    3        3    2        3           3  \n",
       "_y ⎠ + ⎝nₓ ⋅n_y  + nₓ ⋅n_y  - 10⋅nₓ ⋅n_y  + 10⋅nₓ ⋅n_y  - 10⋅nₓ ⋅n_y + 4⋅nₓ  +\n",
       "\n",
       "                     ⎛  3    2     2    3       2    2       2           2    \n",
       "m₅⋅nₓ⋅n_y⋅(nₓ + n_y)⋅⎝nₓ ⋅n_y  + nₓ ⋅n_y  - 8⋅nₓ ⋅n_y  + 5⋅nₓ ⋅n_y - 2⋅nₓ  + 5\n",
       "──────────────────────────────────────────────────────────────────────────────\n",
       "      2    3            3        3⎞ ⎛  4    2       3    3        3    2      \n",
       " 10⋅nₓ ⋅n_y  - 10⋅nₓ⋅n_y  + 4⋅n_y ⎠⋅⎝nₓ ⋅n_y  + 2⋅nₓ ⋅n_y  - 12⋅nₓ ⋅n_y  + 2⋅n\n",
       "\n",
       "       2        2⎞⎞                                                           \n",
       "⋅nₓ⋅n_y  - 2⋅n_y ⎠⎠                                                           \n",
       "──────────────────────────────────────────────────────────────────────────────\n",
       " 3         2    4        2    3        2    2        2            2           \n",
       "ₓ ⋅n_y + nₓ ⋅n_y  - 12⋅nₓ ⋅n_y  + 60⋅nₓ ⋅n_y  - 42⋅nₓ ⋅n_y + 20⋅nₓ  + 2⋅nₓ⋅n_y\n",
       "\n",
       "                         \n",
       "                         \n",
       "─────────────────────────\n",
       "3            2         2⎞\n",
       "  - 42⋅nₓ⋅n_y  + 20⋅n_y ⎠"
      ]
     },
     "execution_count": 34,
     "metadata": {},
     "output_type": "execute_result"
    }
   ],
   "source": [
    "M2M3two"
   ]
  },
  {
   "cell_type": "code",
   "execution_count": 35,
   "metadata": {
    "collapsed": false
   },
   "outputs": [
    {
     "name": "stdout",
     "output_type": "stream",
     "text": [
      "n_x**2*n_y**2*(10*m2*m3*(n_x**2 + 2*n_x*n_y + n_y**2)*(-2*n_x**3*n_y**3 + 5*n_x**3*n_y**2 - 8*n_x**3*n_y + 4*n_x**3 + 5*n_x**2*n_y**3 - 8*n_x*n_y**3 + 4*n_y**3) + m5*n_x*n_y*(n_x + n_y)*(n_x**4*n_y**2 + 2*n_x**3*n_y**3 - 12*n_x**3*n_y**2 + 2*n_x**3*n_y + n_x**2*n_y**4 - 12*n_x**2*n_y**3 + 60*n_x**2*n_y**2 - 42*n_x**2*n_y + 20*n_x**2 + 2*n_x*n_y**3 - 42*n_x*n_y**2 + 20*n_y**2))/(10*(n_x**3*n_y**2 + n_x**2*n_y**3 - 8*n_x**2*n_y**2 + 5*n_x**2*n_y - 2*n_x**2 + 5*n_x*n_y**2 - 2*n_y**2)*(-2*n_x**3*n_y**3 + 5*n_x**3*n_y**2 - 8*n_x**3*n_y + 4*n_x**3 + 5*n_x**2*n_y**3 - 8*n_x*n_y**3 + 4*n_y**3) + (n_x**4*n_y**3 + n_x**3*n_y**4 - 10*n_x**3*n_y**3 + 10*n_x**3*n_y**2 - 10*n_x**3*n_y + 4*n_x**3 + 10*n_x**2*n_y**3 - 10*n_x*n_y**3 + 4*n_y**3)*(n_x**4*n_y**2 + 2*n_x**3*n_y**3 - 12*n_x**3*n_y**2 + 2*n_x**3*n_y + n_x**2*n_y**4 - 12*n_x**2*n_y**3 + 60*n_x**2*n_y**2 - 42*n_x**2*n_y + 20*n_x**2 + 2*n_x*n_y**3 - 42*n_x*n_y**2 + 20*n_y**2))\n"
     ]
    }
   ],
   "source": [
    "print(M5two)"
   ]
  },
  {
   "cell_type": "code",
   "execution_count": 36,
   "metadata": {
    "collapsed": false
   },
   "outputs": [
    {
     "name": "stdout",
     "output_type": "stream",
     "text": [
      "n_x**2*n_y**2*(m2*m3*(n_x**2 + 2*n_x*n_y + n_y**2)*(n_x**4*n_y**3 + n_x**3*n_y**4 - 10*n_x**3*n_y**3 + 10*n_x**3*n_y**2 - 10*n_x**3*n_y + 4*n_x**3 + 10*n_x**2*n_y**3 - 10*n_x*n_y**3 + 4*n_y**3) - m5*n_x*n_y*(n_x + n_y)*(n_x**3*n_y**2 + n_x**2*n_y**3 - 8*n_x**2*n_y**2 + 5*n_x**2*n_y - 2*n_x**2 + 5*n_x*n_y**2 - 2*n_y**2))/(10*(n_x**3*n_y**2 + n_x**2*n_y**3 - 8*n_x**2*n_y**2 + 5*n_x**2*n_y - 2*n_x**2 + 5*n_x*n_y**2 - 2*n_y**2)*(-2*n_x**3*n_y**3 + 5*n_x**3*n_y**2 - 8*n_x**3*n_y + 4*n_x**3 + 5*n_x**2*n_y**3 - 8*n_x*n_y**3 + 4*n_y**3) + (n_x**4*n_y**3 + n_x**3*n_y**4 - 10*n_x**3*n_y**3 + 10*n_x**3*n_y**2 - 10*n_x**3*n_y + 4*n_x**3 + 10*n_x**2*n_y**3 - 10*n_x*n_y**3 + 4*n_y**3)*(n_x**4*n_y**2 + 2*n_x**3*n_y**3 - 12*n_x**3*n_y**2 + 2*n_x**3*n_y + n_x**2*n_y**4 - 12*n_x**2*n_y**3 + 60*n_x**2*n_y**2 - 42*n_x**2*n_y + 20*n_x**2 + 2*n_x*n_y**3 - 42*n_x*n_y**2 + 20*n_y**2))\n"
     ]
    }
   ],
   "source": [
    "print(M2M3two)"
   ]
  },
  {
   "cell_type": "code",
   "execution_count": 28,
   "metadata": {
    "collapsed": true
   },
   "outputs": [],
   "source": [
    "#********************* 6th moment ************************#"
   ]
  },
  {
   "cell_type": "code",
   "execution_count": 215,
   "metadata": {
    "collapsed": false
   },
   "outputs": [
    {
     "data": {
      "image/png": "[encoded data removed]",
      "text/latex": [
       "$$X_{i}^{2} X_{j}^{4} - 4 X_{i}^{2} X_{j}^{3} \\bar{X} + 6 X_{i}^{2} X_{j}^{2} \\bar{X}^{2} - 4 X_{i}^{2} X_{j} \\bar{X}^{3} + X_{i}^{2} \\bar{X}^{4} - 2 X_{i} X_{j}^{4} \\bar{X} + 8 X_{i} X_{j}^{3} \\bar{X}^{2} - 12 X_{i} X_{j}^{2} \\bar{X}^{3} + 8 X_{i} X_{j} \\bar{X}^{4} - 2 X_{i} \\bar{X}^{5} + X_{j}^{4} \\bar{X}^{2} - 4 X_{j}^{3} \\bar{X}^{3} + 6 X_{j}^{2} \\bar{X}^{4} - 4 X_{j} \\bar{X}^{5} + \\bar{X}^{6}$$"
      ],
      "text/plain": [
       "  2    4       2    3          2    2   2       2       3     2   4           \n",
       "Xᵢ ⋅X_j  - 4⋅Xᵢ ⋅X_j ⋅X̅ + 6⋅Xᵢ ⋅X_j ⋅X̅  - 4⋅Xᵢ ⋅X_j⋅X̅  + Xᵢ ⋅X̅  - 2⋅Xᵢ⋅X_j\n",
       "\n",
       "4              3   2            2   3              4          5      4   2    \n",
       " ⋅X̅ + 8⋅Xᵢ⋅X_j ⋅X̅  - 12⋅Xᵢ⋅X_j ⋅X̅  + 8⋅Xᵢ⋅X_j⋅X̅  - 2⋅Xᵢ⋅X̅  + X_j ⋅X̅  - 4\n",
       "\n",
       "    3   3        2   4           5     6\n",
       "⋅X_j ⋅X̅  + 6⋅X_j ⋅X̅  - 4⋅X_j⋅X̅  + X̅ "
      ]
     },
     "execution_count": 215,
     "metadata": {},
     "output_type": "execute_result"
    }
   ],
   "source": [
    "# m6    biased (X_i - X_bar)**6\n",
    "# m2*m4 biased\n",
    "((X_i - Xbar)**2*(X_j - Xbar)**4).expand()"
   ]
  },
  {
   "cell_type": "code",
   "execution_count": 216,
   "metadata": {
    "collapsed": false
   },
   "outputs": [
    {
     "data": {
      "image/png": "[encoded data removed]",
      "text/latex": [
       "$$X_{i}^{3} X_{j}^{3} - 3 X_{i}^{3} X_{j}^{2} \\bar{X} + 3 X_{i}^{3} X_{j} \\bar{X}^{2} - X_{i}^{3} \\bar{X}^{3} - 3 X_{i}^{2} X_{j}^{3} \\bar{X} + 9 X_{i}^{2} X_{j}^{2} \\bar{X}^{2} - 9 X_{i}^{2} X_{j} \\bar{X}^{3} + 3 X_{i}^{2} \\bar{X}^{4} + 3 X_{i} X_{j}^{3} \\bar{X}^{2} - 9 X_{i} X_{j}^{2} \\bar{X}^{3} + 9 X_{i} X_{j} \\bar{X}^{4} - 3 X_{i} \\bar{X}^{5} - X_{j}^{3} \\bar{X}^{3} + 3 X_{j}^{2} \\bar{X}^{4} - 3 X_{j} \\bar{X}^{5} + \\bar{X}^{6}$$"
      ],
      "text/plain": [
       "  3    3       3    2          3       2     3   3       2    3          2    \n",
       "Xᵢ ⋅X_j  - 3⋅Xᵢ ⋅X_j ⋅X̅ + 3⋅Xᵢ ⋅X_j⋅X̅  - Xᵢ ⋅X̅  - 3⋅Xᵢ ⋅X_j ⋅X̅ + 9⋅Xᵢ ⋅X_j\n",
       "\n",
       "2   2       2       3       2   4           3   2           2   3             \n",
       " ⋅X̅  - 9⋅Xᵢ ⋅X_j⋅X̅  + 3⋅Xᵢ ⋅X̅  + 3⋅Xᵢ⋅X_j ⋅X̅  - 9⋅Xᵢ⋅X_j ⋅X̅  + 9⋅Xᵢ⋅X_j⋅X\n",
       "\n",
       " 4          5      3   3        2   4           5     6\n",
       "̅  - 3⋅Xᵢ⋅X̅  - X_j ⋅X̅  + 3⋅X_j ⋅X̅  - 3⋅X_j⋅X̅  + X̅ "
      ]
     },
     "execution_count": 216,
     "metadata": {},
     "output_type": "execute_result"
    }
   ],
   "source": [
    "# m3**2 biased\n",
    "((X_i - Xbar)**3*(X_j - Xbar)**3).expand()"
   ]
  },
  {
   "cell_type": "code",
   "execution_count": 217,
   "metadata": {
    "collapsed": false
   },
   "outputs": [
    {
     "data": {
      "image/png": "[encoded data removed]",
      "text/latex": [
       "$$X_{i}^{2} X_{j}^{2} X_{k}^{2} - 2 X_{i}^{2} X_{j}^{2} X_{k} \\bar{X} + X_{i}^{2} X_{j}^{2} \\bar{X}^{2} - 2 X_{i}^{2} X_{j} X_{k}^{2} \\bar{X} + 4 X_{i}^{2} X_{j} X_{k} \\bar{X}^{2} - 2 X_{i}^{2} X_{j} \\bar{X}^{3} + X_{i}^{2} X_{k}^{2} \\bar{X}^{2} - 2 X_{i}^{2} X_{k} \\bar{X}^{3} + X_{i}^{2} \\bar{X}^{4} - 2 X_{i} X_{j}^{2} X_{k}^{2} \\bar{X} + 4 X_{i} X_{j}^{2} X_{k} \\bar{X}^{2} - 2 X_{i} X_{j}^{2} \\bar{X}^{3} + 4 X_{i} X_{j} X_{k}^{2} \\bar{X}^{2} - 8 X_{i} X_{j} X_{k} \\bar{X}^{3} + 4 X_{i} X_{j} \\bar{X}^{4} - 2 X_{i} X_{k}^{2} \\bar{X}^{3} + 4 X_{i} X_{k} \\bar{X}^{4} - 2 X_{i} \\bar{X}^{5} + X_{j}^{2} X_{k}^{2} \\bar{X}^{2} - 2 X_{j}^{2} X_{k} \\bar{X}^{3} + X_{j}^{2} \\bar{X}^{4} - 2 X_{j} X_{k}^{2} \\bar{X}^{3} + 4 X_{j} X_{k} \\bar{X}^{4} - 2 X_{j} \\bar{X}^{5} + X_{k}^{2} \\bar{X}^{4} - 2 X_{k} \\bar{X}^{5} + \\bar{X}^{6}$$"
      ],
      "text/plain": [
       "  2    2   2       2    2           2    2   2       2       2          2     \n",
       "Xᵢ ⋅X_j ⋅Xₖ  - 2⋅Xᵢ ⋅X_j ⋅Xₖ⋅X̅ + Xᵢ ⋅X_j ⋅X̅  - 2⋅Xᵢ ⋅X_j⋅Xₖ ⋅X̅ + 4⋅Xᵢ ⋅X_j⋅\n",
       "\n",
       "     2       2       3     2   2   2       2      3     2   4           2   2 \n",
       "Xₖ⋅X̅  - 2⋅Xᵢ ⋅X_j⋅X̅  + Xᵢ ⋅Xₖ ⋅X̅  - 2⋅Xᵢ ⋅Xₖ⋅X̅  + Xᵢ ⋅X̅  - 2⋅Xᵢ⋅X_j ⋅Xₖ ⋅\n",
       "\n",
       "             2      2           2   3              2   2                 3    \n",
       "X̅ + 4⋅Xᵢ⋅X_j ⋅Xₖ⋅X̅  - 2⋅Xᵢ⋅X_j ⋅X̅  + 4⋅Xᵢ⋅X_j⋅Xₖ ⋅X̅  - 8⋅Xᵢ⋅X_j⋅Xₖ⋅X̅  + 4\n",
       "\n",
       "          4          2   3             4          5      2   2   2        2   \n",
       "⋅Xᵢ⋅X_j⋅X̅  - 2⋅Xᵢ⋅Xₖ ⋅X̅  + 4⋅Xᵢ⋅Xₖ⋅X̅  - 2⋅Xᵢ⋅X̅  + X_j ⋅Xₖ ⋅X̅  - 2⋅X_j ⋅Xₖ\n",
       "\n",
       "   3      2   4           2   3              4           5     2   4          \n",
       "⋅X̅  + X_j ⋅X̅  - 2⋅X_j⋅Xₖ ⋅X̅  + 4⋅X_j⋅Xₖ⋅X̅  - 2⋅X_j⋅X̅  + Xₖ ⋅X̅  - 2⋅Xₖ⋅X̅\n",
       "\n",
       "5     6\n",
       "  + X̅ "
      ]
     },
     "execution_count": 217,
     "metadata": {},
     "output_type": "execute_result"
    }
   ],
   "source": [
    "# m2**3 biased\n",
    "((X_i - Xbar)**2*(X_j - Xbar)**2*(X_k - Xbar)**2).expand()"
   ]
  },
  {
   "cell_type": "code",
   "execution_count": 32,
   "metadata": {
    "collapsed": false
   },
   "outputs": [],
   "source": [
    "%%capture\n",
    "%%R\n",
    "### for E(m6):\n",
    "paste(one_combination(c(rep(0, 5), 1)), \" - 6*\", one_combination(c(1, 0, 0, 0, 1)), \" + 15*\", \n",
    "      one_combination(c(2, 0, 0, 1)), \" - 20*\", one_combination(c(3, 0, 1)), \" + 15*\", one_combination(c(4, 1)), \n",
    "      \" - 5*\", one_combination(6), sep = \"\")"
   ]
  },
  {
   "cell_type": "code",
   "execution_count": 33,
   "metadata": {
    "collapsed": false
   },
   "outputs": [],
   "source": [
    "%%capture\n",
    "%%R\n",
    "### for E(m2*m4):\n",
    "paste(one_combination(c(0, 1, 0, 1)), \" - \", one_combination(c(2, 0, 0, 1)), \" - 4*\", one_combination(c(1, 1, 1)), \n",
    "      \" + 4*\", one_combination(c(3, 0, 1)), \" + 6*\", one_combination(c(2, 2)), \" - 9*\", one_combination(c(4, 1)), \n",
    "      \" + 3*\", one_combination(6), sep = \"\")"
   ]
  },
  {
   "cell_type": "code",
   "execution_count": 34,
   "metadata": {
    "collapsed": false
   },
   "outputs": [],
   "source": [
    "%%capture\n",
    "%%R\n",
    "### for E(m3**2):\n",
    "paste(one_combination(c(0, 0, 2)), \" - 6*\", one_combination(c(1, 1, 1)), \" + 4*\", one_combination(c(3, 0, 1)), \n",
    "      \" + 9*\", one_combination(c(2, 2)), \" - 12*\", one_combination(c(4, 1)), \" + 4*\", one_combination(6), sep = \"\")"
   ]
  },
  {
   "cell_type": "code",
   "execution_count": 35,
   "metadata": {
    "collapsed": false
   },
   "outputs": [],
   "source": [
    "%%capture\n",
    "%%R\n",
    "### for E(m2**3):\n",
    "paste(one_combination(c(0, 3)), \" - 3*\", one_combination(c(2, 2)), \" + 3*\", one_combination(c(4, 1)), \" - \",\n",
    "      one_combination(6), sep = \"\")  "
   ]
  },
  {
   "cell_type": "code",
   "execution_count": 36,
   "metadata": {
    "collapsed": true
   },
   "outputs": [],
   "source": [
    "# solve system of equations for mu6, mu2*mu4, mu3**2, mu2**3"
   ]
  },
  {
   "cell_type": "code",
   "execution_count": 32,
   "metadata": {
    "collapsed": true
   },
   "outputs": [],
   "source": [
    "# E(m6):\n",
    "Em6 = (1*n*mu6**1 ) / n**1 - 6* (1*n*mu6**1 ) / n**2 + 15* (1*n*(n-1)*mu4**1*mu2**1 + 1*n*mu6**1 ) / n**3 - 20* (3*n*(n-1)*mu4**1*mu2**1 + 1*n*(n-1)*mu3**2 + 1*n*mu6**1 ) / n**4 + 15* (3*n*(n-1)*(n-2)*mu2**3 + 7*n*(n-1)*mu4**1*mu2**1 + 4*n*(n-1)*mu3**2 + 1*n*mu6**1 ) / n**5 - 5* (15*n*(n-1)*(n-2)*mu2**3 + 15*n*(n-1)*mu4**1*mu2**1 + 10*n*(n-1)*mu3**2 +  1*n*mu6**1 ) / n**6\n",
    "# E(m2*m3):\n",
    "Em2m4 = (1*n*(n-1)*mu4**1*mu2**1 + 1*n*mu6**1 ) / n**2 -  (1*n*(n-1)*mu4**1*mu2**1 + 1*n*mu6**1 ) / n**3 - 4* (1*n*(n-1)*mu4**1*mu2**1 + 1*n*(n-1)*mu3**2 + 1*n*mu6**1 ) / n**3 + 4* (3*n*(n-1)*mu4**1*mu2**1 + 1*n*(n-1)*mu3**2 + 1*n*mu6**1 ) / n**4 + 6* (1*n*(n-1)*(n-2)*mu2**3 + 3*n*(n-1)*mu4**1*mu2**1 + 2*n*(n-1)*mu3**2 + 1*n*mu6**1 ) / n**4 - 9* (3*n*(n-1)*(n-2)*mu2**3 + 7*n*(n-1)*mu4**1*mu2**1 + 4*n*(n-1)*mu3**2 + 1*n*mu6**1 ) / n**5 + 3* (15*n*(n-1)*(n-2)*mu2**3 + 15*n*(n-1)*mu4**1*mu2**1 + 10*n*(n-1)*mu3**2 +  1*n*mu6**1 ) / n**6\n",
    "# E(m3**2)\n",
    "Em3pow2 = (1*n*(n-1)*mu3**2 + 1*n*mu6**1 ) / n**2 - 6* (1*n*(n-1)*mu4**1*mu2**1 + 1*n*(n-1)*mu3**2 + 1*n*mu6**1 ) / n**3 + 4* (3*n*(n-1)*mu4**1*mu2**1 + 1*n*(n-1)*mu3**2 + 1*n*mu6**1 ) / n**4 + 9* (1*n*(n-1)*(n-2)*mu2**3 + 3*n*(n-1)*mu4**1*mu2**1 + 2*n*(n-1)*mu3**2 + 1*n*mu6**1 ) / n**4 - 12* (3*n*(n-1)*(n-2)*mu2**3 + 7*n*(n-1)*mu4**1*mu2**1 + 4*n*(n-1)*mu3**2 + 1*n*mu6**1 ) / n**5 + 4* (15*n*(n-1)*(n-2)*mu2**3 + 15*n*(n-1)*mu4**1*mu2**1 + 10*n*(n-1)*mu3**2 +  1*n*mu6**1 ) / n**6\n",
    "# E(m2**3)\n",
    "Em2pow3 = (1*n*(n-1)*(n-2)*mu2**3 + 3*n*(n-1)*mu4**1*mu2**1 + 1*n*mu6**1 ) / n**3 - 3* (1*n*(n-1)*(n-2)*mu2**3 + 3*n*(n-1)*mu4**1*mu2**1 + 2*n*(n-1)*mu3**2 + 1*n*mu6**1 ) / n**4 + 3* (3*n*(n-1)*(n-2)*mu2**3 + 7*n*(n-1)*mu4**1*mu2**1 + 4*n*(n-1)*mu3**2 + 1*n*mu6**1 ) / n**5 -  (15*n*(n-1)*(n-2)*mu2**3 + 15*n*(n-1)*mu4**1*mu2**1 + 10*n*(n-1)*mu3**2 +  1*n*mu6**1 ) / n**6\n",
    "\n",
    "# equations\n",
    "eq1 = -m6    + Em6\n",
    "eq2 = -m2*m4 + Em2m4\n",
    "eq3 = -m3**2 + Em3pow2\n",
    "eq4 = -m2**3 + Em2pow3"
   ]
  },
  {
   "cell_type": "code",
   "execution_count": 33,
   "metadata": {
    "collapsed": false
   },
   "outputs": [],
   "source": [
    "sol = solve([eq1, eq2, eq3, eq4], mu6, mu2*mu4, mu3**2, mu2**3)\n",
    "M6 = sol[mu6]\n",
    "M2M4 = sol[mu2*mu4]\n",
    "M3pow2 = sol[mu3**2]\n",
    "M2pow3 = sol[mu2**3]"
   ]
  },
  {
   "cell_type": "code",
   "execution_count": 36,
   "metadata": {
    "collapsed": false
   },
   "outputs": [
    {
     "data": {
      "image/png": "[encoded data removed]",
      "text/latex": [
       "$$\\frac{15 m_{2}^{3} n^{2} \\left(3 n - 10\\right)}{\\left(n - 5\\right) \\left(n - 4\\right) \\left(n - 3\\right) \\left(n - 2\\right) \\left(n - 1\\right)} - \\frac{15 m_{2} m_{4} n \\left(n^{3} - 8 n^{2} + 29 n - 40\\right)}{\\left(n - 5\\right) \\left(n - 4\\right) \\left(n - 3\\right) \\left(n - 2\\right) \\left(n - 1\\right)} - \\frac{40 m_{3}^{2} n \\left(n^{2} - 6 n + 10\\right)}{\\left(n - 5\\right) \\left(n - 4\\right) \\left(n - 3\\right) \\left(n - 2\\right) \\left(n - 1\\right)} + \\frac{m_{6} n \\left(n^{4} - 9 n^{3} + 31 n^{2} - 39 n + 40\\right)}{\\left(n - 5\\right) \\left(n - 4\\right) \\left(n - 3\\right) \\left(n - 2\\right) \\left(n - 1\\right)}$$"
      ],
      "text/plain": [
       "               3  2                                     ⎛ 3      2            \n",
       "          15⋅m₂ ⋅n ⋅(3⋅n - 10)               15⋅m₂⋅m₄⋅n⋅⎝n  - 8⋅n  + 29⋅n - 40\n",
       "─────────────────────────────────────── - ────────────────────────────────────\n",
       "(n - 5)⋅(n - 4)⋅(n - 3)⋅(n - 2)⋅(n - 1)   (n - 5)⋅(n - 4)⋅(n - 3)⋅(n - 2)⋅(n -\n",
       "\n",
       "⎞                  2   ⎛ 2           ⎞                 ⎛ 4      3       2     \n",
       "⎠             40⋅m₃ ⋅n⋅⎝n  - 6⋅n + 10⎠            m₆⋅n⋅⎝n  - 9⋅n  + 31⋅n  - 39\n",
       "─── - ─────────────────────────────────────── + ──────────────────────────────\n",
       " 1)   (n - 5)⋅(n - 4)⋅(n - 3)⋅(n - 2)⋅(n - 1)   (n - 5)⋅(n - 4)⋅(n - 3)⋅(n - 2\n",
       "\n",
       "       ⎞ \n",
       "⋅n + 40⎠ \n",
       "─────────\n",
       ")⋅(n - 1)"
      ]
     },
     "execution_count": 36,
     "metadata": {},
     "output_type": "execute_result"
    }
   ],
   "source": [
    "# Unbiased estimate of mu6\n",
    "sum(list(map(factor, M6.expand().collect(m6).collect(m2*m4).collect(m3**2).collect(m2**3).args)))"
   ]
  },
  {
   "cell_type": "code",
   "execution_count": 37,
   "metadata": {
    "collapsed": false
   },
   "outputs": [
    {
     "data": {
      "image/png": "[encoded data removed]",
      "text/latex": [
       "$$- \\frac{3 m_{2}^{3} n^{2} \\left(2 n - 5\\right)}{\\left(n - 5\\right) \\left(n - 4\\right) \\left(n - 3\\right) \\left(n - 1\\right)} + \\frac{m_{2} m_{4} n \\left(n^{4} - 9 n^{3} + 53 n^{2} - 135 n + 120\\right)}{\\left(n - 5\\right) \\left(n - 4\\right) \\left(n - 3\\right) \\left(n - 2\\right) \\left(n - 1\\right)} + \\frac{4 m_{3}^{2} n \\left(n^{2} - 5 n + 10\\right)}{\\left(n - 5\\right) \\left(n - 4\\right) \\left(n - 3\\right) \\left(n - 1\\right)} - \\frac{m_{6} n \\left(n^{2} - 3 n + 8\\right)}{\\left(n - 5\\right) \\left(n - 4\\right) \\left(n - 3\\right) \\left(n - 2\\right)}$$"
      ],
      "text/plain": [
       "             3  2                           ⎛ 4      3       2              ⎞ \n",
       "         3⋅m₂ ⋅n ⋅(2⋅n - 5)         m₂⋅m₄⋅n⋅⎝n  - 9⋅n  + 53⋅n  - 135⋅n + 120⎠ \n",
       "- ─────────────────────────────── + ───────────────────────────────────────── \n",
       "  (n - 5)⋅(n - 4)⋅(n - 3)⋅(n - 1)    (n - 5)⋅(n - 4)⋅(n - 3)⋅(n - 2)⋅(n - 1)  \n",
       "\n",
       "          2   ⎛ 2           ⎞                  ⎛ 2          ⎞      \n",
       "      4⋅m₃ ⋅n⋅⎝n  - 5⋅n + 10⎠             m₆⋅n⋅⎝n  - 3⋅n + 8⎠      \n",
       "+ ─────────────────────────────── - ───────────────────────────────\n",
       "  (n - 5)⋅(n - 4)⋅(n - 3)⋅(n - 1)   (n - 5)⋅(n - 4)⋅(n - 3)⋅(n - 2)"
      ]
     },
     "execution_count": 37,
     "metadata": {},
     "output_type": "execute_result"
    }
   ],
   "source": [
    "# Unbiased estimate of mu2*mu4\n",
    "sum(list(map(factor, M2M4.expand().collect(m6).collect(m2*m4).collect(m3**2).collect(m2**3).args)))"
   ]
  },
  {
   "cell_type": "code",
   "execution_count": 38,
   "metadata": {
    "collapsed": false
   },
   "outputs": [
    {
     "data": {
      "image/png": "[encoded data removed]",
      "text/latex": [
       "$$- \\frac{3 m_{2}^{3} n^{2} \\left(3 n^{2} - 15 n + 20\\right)}{\\left(n - 5\\right) \\left(n - 4\\right) \\left(n - 3\\right) \\left(n - 2\\right) \\left(n - 1\\right)} + \\frac{3 m_{2} m_{4} n \\left(2 n^{3} - 5 n^{2} - 5 n + 20\\right)}{\\left(n - 5\\right) \\left(n - 4\\right) \\left(n - 3\\right) \\left(n - 2\\right) \\left(n - 1\\right)} + \\frac{m_{3}^{2} n \\left(n^{4} - 8 n^{3} + 25 n^{2} - 10 n - 40\\right)}{\\left(n - 5\\right) \\left(n - 4\\right) \\left(n - 3\\right) \\left(n - 2\\right) \\left(n - 1\\right)} - \\frac{m_{6} n \\left(n^{2} - n + 4\\right)}{\\left(n - 5\\right) \\left(n - 4\\right) \\left(n - 3\\right) \\left(n - 2\\right)}$$"
      ],
      "text/plain": [
       "            3  2 ⎛   2            ⎞                      ⎛   3      2         \n",
       "        3⋅m₂ ⋅n ⋅⎝3⋅n  - 15⋅n + 20⎠            3⋅m₂⋅m₄⋅n⋅⎝2⋅n  - 5⋅n  - 5⋅n + \n",
       "- ─────────────────────────────────────── + ──────────────────────────────────\n",
       "  (n - 5)⋅(n - 4)⋅(n - 3)⋅(n - 2)⋅(n - 1)   (n - 5)⋅(n - 4)⋅(n - 3)⋅(n - 2)⋅(n\n",
       "\n",
       "  ⎞        2   ⎛ 4      3       2            ⎞                ⎛ 2        ⎞    \n",
       "20⎠      m₃ ⋅n⋅⎝n  - 8⋅n  + 25⋅n  - 10⋅n - 40⎠           m₆⋅n⋅⎝n  - n + 4⎠    \n",
       "───── + ─────────────────────────────────────── - ────────────────────────────\n",
       " - 1)   (n - 5)⋅(n - 4)⋅(n - 3)⋅(n - 2)⋅(n - 1)   (n - 5)⋅(n - 4)⋅(n - 3)⋅(n -\n",
       "\n",
       "   \n",
       "   \n",
       "───\n",
       " 2)"
      ]
     },
     "execution_count": 38,
     "metadata": {},
     "output_type": "execute_result"
    }
   ],
   "source": [
    "# Unbiased estimate of mu3**2\n",
    "sum(list(map(factor, M3pow2.expand().collect(m6).collect(m2*m4).collect(m3**2).collect(m2**3).args)))"
   ]
  },
  {
   "cell_type": "code",
   "execution_count": 39,
   "metadata": {
    "collapsed": false
   },
   "outputs": [
    {
     "data": {
      "image/png": "[encoded data removed]",
      "text/latex": [
       "$$\\frac{m_{2}^{3} n^{2} \\left(n^{2} - 7 n + 15\\right)}{\\left(n - 5\\right) \\left(n - 4\\right) \\left(n - 3\\right) \\left(n - 1\\right)} - \\frac{3 m_{2} m_{4} n \\left(n^{2} - 5 n + 10\\right)}{\\left(n - 5\\right) \\left(n - 4\\right) \\left(n - 3\\right) \\left(n - 1\\right)} - \\frac{2 m_{3}^{2} n \\left(3 n^{2} - 15 n + 20\\right)}{\\left(n - 5\\right) \\left(n - 4\\right) \\left(n - 3\\right) \\left(n - 2\\right) \\left(n - 1\\right)} + \\frac{2 m_{6} n}{\\left(n - 5\\right) \\left(n - 4\\right) \\left(n - 3\\right)}$$"
      ],
      "text/plain": [
       "       3  2 ⎛ 2           ⎞                    ⎛ 2           ⎞                \n",
       "     m₂ ⋅n ⋅⎝n  - 7⋅n + 15⎠          3⋅m₂⋅m₄⋅n⋅⎝n  - 5⋅n + 10⎠             2⋅m\n",
       "─────────────────────────────── - ─────────────────────────────── - ──────────\n",
       "(n - 5)⋅(n - 4)⋅(n - 3)⋅(n - 1)   (n - 5)⋅(n - 4)⋅(n - 3)⋅(n - 1)   (n - 5)⋅(n\n",
       "\n",
       " 2   ⎛   2            ⎞                                \n",
       "₃ ⋅n⋅⎝3⋅n  - 15⋅n + 20⎠                  2⋅m₆⋅n        \n",
       "───────────────────────────── + ───────────────────────\n",
       " - 4)⋅(n - 3)⋅(n - 2)⋅(n - 1)   (n - 5)⋅(n - 4)⋅(n - 3)"
      ]
     },
     "execution_count": 39,
     "metadata": {},
     "output_type": "execute_result"
    }
   ],
   "source": [
    "# Unbiased estimate of mu2**3\n",
    "sum(list(map(factor, M2pow3.expand().collect(m6).collect(m2*m4).collect(m3**2).collect(m2**3).args)))"
   ]
  },
  {
   "cell_type": "code",
   "execution_count": 40,
   "metadata": {
    "collapsed": true
   },
   "outputs": [],
   "source": [
    "# two-sample #"
   ]
  },
  {
   "cell_type": "code",
   "execution_count": 34,
   "metadata": {
    "collapsed": false
   },
   "outputs": [],
   "source": [
    "m2m4 = ((n_x*m_x2 + n_y*m_y2)*(n_x*m_x4 + n_y*m_y4)).expand()\n",
    "m3pow2 = ((n_x*m_x3 + n_y*m_y3)**2).expand()\n",
    "m2pow3 = ((n_x*m_x2 + n_y*m_y2)**3).expand()"
   ]
  },
  {
   "cell_type": "code",
   "execution_count": 46,
   "metadata": {
    "collapsed": true
   },
   "outputs": [],
   "source": [
    "eq1xy = -m6 + (Em6.subs({n: n_x})*n_x + Em6.subs({n: n_y})*n_y)/(n_x + n_y) \n",
    "eq2xy = -m2*m4 + (m2m4.coeff(m_x2*m_x4)*Em2m4.subs(n, n_x) + m2m4.coeff(m_y2*m_y4)*Em2m4.subs(n, n_y) + m2m4.coeff(m_x4*m_y2)*Em4.subs(n, n_x)*Em2.subs(n, n_y) + m2m4.coeff(m_x2*m_y4)*Em2.subs(n, n_x)*Em4.subs(n, n_y))    /(n_x + n_y)**2 \n",
    "eq3xy = -m3**2 + (m3pow2.coeff(m_x3**2)*Em3pow2.subs(n, n_x) + m3pow2.coeff(m_y3**2)*Em3pow2.subs(n, n_y) + m3pow2.coeff(m_x3*m_y3)*Em3.subs(n, n_x)*Em3.subs(n, n_y))/(n_x + n_y)**2\n",
    "eq4xy = -m2**3 + (m2pow3.coeff(m_x2**3)*Em2pow3.subs(n, n_x) + m2pow3.coeff(m_y2**3)*Em2pow3.subs(n, n_y) + m2pow3.coeff(m_x2**2*m_y2)*Em2pow2.subs(n, n_x)*Em2.subs(n, n_y) + m2pow3.coeff(m_x2*m_y2**2)*Em2.subs(n, n_x)*Em2pow2.subs(n, n_y))/(n_x + n_y)**3"
   ]
  },
  {
   "cell_type": "code",
   "execution_count": null,
   "metadata": {
    "collapsed": true
   },
   "outputs": [],
   "source": [
    "# Do not run!\n",
    "sol = solve([eq1xy.expand().collect(mu6).collect(mu2*mu4).collect(mu3**2).collect(mu2**3),\n",
    "             eq2xy.expand().collect(mu6).collect(mu2*mu4).collect(mu3**2).collect(mu2**3), \n",
    "             eq3xy.expand().collect(mu6).collect(mu2*mu4).collect(mu3**2).collect(mu2**3),\n",
    "             eq4xy.expand().collect(mu6).collect(mu2*mu4).collect(mu3**2).collect(mu2**3)],\n",
    "            mu6, mu2*mu4, mu3**2, mu2**3)\n",
    "M6two     = sol[mu6]\n",
    "M2M4two   = sol[mu2*mu4]\n",
    "M3pow2two = sol[mu3**2]\n",
    "M2pow3two = sol[mu2**3]"
   ]
  },
  {
   "cell_type": "code",
   "execution_count": 47,
   "metadata": {
    "collapsed": true
   },
   "outputs": [],
   "source": [
    "v1mu6, v1mu2mu4, v1mu3pow2, v1mu2pow3, v2mu6, v2mu2mu4, v2mu3pow2, v2mu2pow3, v3mu6, v3mu2mu4, v3mu3pow2, v3mu2pow3, v4mu6, v4mu2mu4, v4mu3pow2, v4mu2pow3 = var('v1mu6, v1mu2mu4, v1mu3pow2, v1mu2pow3, v2mu6, v2mu2mu4, v2mu3pow2, v2mu2pow3, v3mu6, v3mu2mu4, v3mu3pow2, v3mu2pow3, v4mu6, v4mu2mu4, v4mu3pow2, v4mu2pow3')"
   ]
  },
  {
   "cell_type": "code",
   "execution_count": 48,
   "metadata": {
    "collapsed": true
   },
   "outputs": [],
   "source": [
    "e1 = eq1xy.expand()\n",
    "c1mu6     = e1.coeff(mu6).factor()\n",
    "c1mu2mu4  = e1.coeff(mu2*mu4).factor()\n",
    "c1mu3pow2 = e1.coeff(mu3**2).factor()\n",
    "c1mu2pow3 = e1.coeff(mu2**3).factor()\n",
    "eq1sub = -m6 + mu6*v1mu6 + mu2*mu4*v1mu2mu4 + mu3**2*v1mu3pow2 + mu2**3*v1mu2pow3\n",
    "e2 = eq2xy.expand()\n",
    "c2mu6     = e2.coeff(mu6).factor()\n",
    "c2mu2mu4  = e2.coeff(mu2*mu4).factor()\n",
    "c2mu3pow2 = e2.coeff(mu3**2).factor()\n",
    "c2mu2pow3 = e2.coeff(mu2**3).factor()\n",
    "eq2sub = -m2*m4 + mu6*v2mu6 + mu2*mu4*v2mu2mu4 + mu3**2*v2mu3pow2 + mu2**3*v2mu2pow3\n",
    "e3 = eq3xy.expand()\n",
    "c3mu6     = e3.coeff(mu6).factor()\n",
    "c3mu2mu4  = e3.coeff(mu2*mu4).factor()\n",
    "c3mu3pow2 = e3.coeff(mu3**2).factor()\n",
    "c3mu2pow3 = e3.coeff(mu2**3).factor()\n",
    "eq3sub = -m3**2 + mu6*v3mu6 + mu2*mu4*v3mu2mu4 + mu3**2*v3mu3pow2 + mu2**3*v3mu2pow3\n",
    "e4 = eq4xy.expand()\n",
    "c4mu6     = e4.coeff(mu6).factor()\n",
    "c4mu2mu4  = e4.coeff(mu2*mu4).factor()\n",
    "c4mu3pow2 = e4.coeff(mu3**2).factor()\n",
    "c4mu2pow3 = e4.coeff(mu2**3).factor()\n",
    "eq4sub = -m2**3 + mu6*v4mu6 + mu2*mu4*v4mu2mu4 + mu3**2*v4mu3pow2 + mu2**3*v4mu2pow3"
   ]
  },
  {
   "cell_type": "code",
   "execution_count": 49,
   "metadata": {
    "collapsed": false
   },
   "outputs": [],
   "source": [
    "sol = solve([eq1sub, eq2sub, eq3sub, eq4sub], mu6, mu2*mu4, mu3**2, mu2**3)\n",
    "M6two     = sol[mu6]\n",
    "M2M4two   = sol[mu2*mu4]\n",
    "M3pow2two = sol[mu3**2]\n",
    "M2pow3two = sol[mu2**3]"
   ]
  },
  {
   "cell_type": "code",
   "execution_count": 50,
   "metadata": {
    "collapsed": true
   },
   "outputs": [],
   "source": [
    "M6t = M6two.subs({v1mu6: c1mu6, v1mu2mu4: c1mu2mu4, v1mu3pow2: c1mu3pow2, v1mu2pow3: c1mu2pow3, \n",
    "                 v2mu6: c2mu6, v2mu2mu4: c2mu2mu4, v2mu3pow2: c2mu3pow2, v2mu2pow3: c2mu2pow3,\n",
    "                 v3mu6: c3mu6, v3mu2mu4: c3mu2mu4, v3mu3pow2: c3mu3pow2, v3mu2pow3: c3mu2pow3,\n",
    "                 v4mu6: c4mu6, v4mu2mu4: c4mu2mu4, v4mu3pow2: c4mu3pow2, v4mu2pow3: c4mu2pow3})\n",
    "M2M4t = M2M4two.subs({v1mu6: c1mu6, v1mu2mu4: c1mu2mu4, v1mu3pow2: c1mu3pow2, v1mu2pow3: c1mu2pow3, \n",
    "                 v2mu6: c2mu6, v2mu2mu4: c2mu2mu4, v2mu3pow2: c2mu3pow2, v2mu2pow3: c2mu2pow3,\n",
    "                 v3mu6: c3mu6, v3mu2mu4: c3mu2mu4, v3mu3pow2: c3mu3pow2, v3mu2pow3: c3mu2pow3,\n",
    "                 v4mu6: c4mu6, v4mu2mu4: c4mu2mu4, v4mu3pow2: c4mu3pow2, v4mu2pow3: c4mu2pow3})\n",
    "M3pow2t = M3pow2two.subs({v1mu6: c1mu6, v1mu2mu4: c1mu2mu4, v1mu3pow2: c1mu3pow2, v1mu2pow3: c1mu2pow3, \n",
    "                 v2mu6: c2mu6, v2mu2mu4: c2mu2mu4, v2mu3pow2: c2mu3pow2, v2mu2pow3: c2mu2pow3,\n",
    "                 v3mu6: c3mu6, v3mu2mu4: c3mu2mu4, v3mu3pow2: c3mu3pow2, v3mu2pow3: c3mu2pow3,\n",
    "                 v4mu6: c4mu6, v4mu2mu4: c4mu2mu4, v4mu3pow2: c4mu3pow2, v4mu2pow3: c4mu2pow3})\n",
    "M2pow3t = M2pow3two.subs({v1mu6: c1mu6, v1mu2mu4: c1mu2mu4, v1mu3pow2: c1mu3pow2, v1mu2pow3: c1mu2pow3, \n",
    "                 v2mu6: c2mu6, v2mu2mu4: c2mu2mu4, v2mu3pow2: c2mu3pow2, v2mu2pow3: c2mu2pow3,\n",
    "                 v3mu6: c3mu6, v3mu2mu4: c3mu2mu4, v3mu3pow2: c3mu3pow2, v3mu2pow3: c3mu2pow3,\n",
    "                 v4mu6: c4mu6, v4mu2mu4: c4mu2mu4, v4mu3pow2: c4mu3pow2, v4mu2pow3: c4mu2pow3})"
   ]
  },
  {
   "cell_type": "code",
   "execution_count": 51,
   "metadata": {
    "collapsed": false
   },
   "outputs": [],
   "source": [
    "%%capture\n",
    "%save M6two     str(M6t)\n",
    "%save M2M4two   str(M2M4t)\n",
    "%save M3pow2two str(M3pow2t)\n",
    "%save M2pow3two str(M2pow3t)"
   ]
  },
  {
   "cell_type": "code",
   "execution_count": null,
   "metadata": {
    "collapsed": true
   },
   "outputs": [],
   "source": []
  }
 ],
 "metadata": {
  "anaconda-cloud": {},
  "kernelspec": {
   "display_name": "Python [default]",
   "language": "python",
   "name": "python3"
  },
  "language_info": {
   "codemirror_mode": {
    "name": "ipython",
    "version": 3
   },
   "file_extension": ".py",
   "mimetype": "text/x-python",
   "name": "python",
   "nbconvert_exporter": "python",
   "pygments_lexer": "ipython3",
   "version": "3.5.2"
  }
 },
 "nbformat": 4,
 "nbformat_minor": 1
}
