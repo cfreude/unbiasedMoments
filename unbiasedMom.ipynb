{
 "cells": [
  {
   "cell_type": "code",
   "execution_count": 1,
   "metadata": {},
   "outputs": [],
   "source": [
    "# if R is already installed locally, override R_HOME using the path to the R lib inside the env of your conda installation.\n",
    "import os; os.environ['R_HOME'] = 'F:\\miniconda3\\envs\\jpy-r\\Lib\\R'"
   ]
  },
  {
   "cell_type": "code",
   "execution_count": 2,
   "metadata": {
    "collapsed": false,
    "jupyter": {
     "outputs_hidden": false
    }
   },
   "outputs": [
    {
     "name": "stderr",
     "output_type": "stream",
     "text": [
      "F:\\miniconda3\\envs\\jpy-r\\Lib\\site-packages\\rpy2\\robjects\\packages.py:367: UserWarning: The symbol 'quartz' is not in this R namespace/package.\n",
      "  warnings.warn(\n",
      "F:\\miniconda3\\envs\\jpy-r\\Lib\\site-packages\\rpy2\\ipython\\rmagic.py:75: UserWarning: The Python package `pandas` is strongly recommended when using `rpy2.ipython`. Unfortunately it could not be loaded (error: No module named 'pandas'), but at least we found `numpy`.\n",
      "  warnings.warn('The Python package `pandas` is strongly '\n"
     ]
    }
   ],
   "source": [
    "from sympy import *\n",
    "import numpy as np\n",
    "init_printing(use_unicode = True) # if it hangs at cell 9 comment out this line\n",
    "%load_ext rpy2.ipython "
   ]
  },
  {
   "cell_type": "code",
   "execution_count": 3,
   "metadata": {},
   "outputs": [],
   "source": [
    "%%R\n",
    "source(\"functionsGenerateEdgeForPy.R\")"
   ]
  },
  {
   "cell_type": "code",
   "execution_count": 4,
   "metadata": {},
   "outputs": [],
   "source": [
    "n, mu1, mu2, mu3, mu4, mu5, mu6, mu7, m2, m3, m4, m5, m6, X_i, X_j, X_k, X_bar = var('n, mu1, mu2, mu3, mu4, mu5, mu6, mu7, m2, m3, m4, m5, m6, X_i, X_j, X_k, X_bar')"
   ]
  },
  {
   "cell_type": "code",
   "execution_count": 5,
   "metadata": {},
   "outputs": [],
   "source": [
    "#********************* 3rd moment ************************#"
   ]
  },
  {
   "cell_type": "code",
   "execution_count": 6,
   "metadata": {
    "collapsed": false,
    "jupyter": {
     "outputs_hidden": false
    }
   },
   "outputs": [],
   "source": [
    "# m3 biased (X_i - X_bar)**3"
   ]
  },
  {
   "cell_type": "code",
   "execution_count": 7,
   "metadata": {
    "collapsed": false,
    "jupyter": {
     "outputs_hidden": false
    }
   },
   "outputs": [
    {
     "name": "stdout",
     "output_type": "stream",
     "text": [
      "[1] \" (1*n*mu3**1 ) / n**1 - 3* (1*n*mu3**1 ) / n**2 + 2* (1*n*mu3**1 ) / n**3\"\n"
     ]
    }
   ],
   "source": [
    "%%R\n",
    "### for E(m3):\n",
    "paste(one_combination(c(0, 0, 1)), \" - 3*\", one_combination(c(1, 1)), \" + 2*\", one_combination(3), sep = \"\")\n",
    "# note that parentheses are not needed here (but in general should be inserted for safety)"
   ]
  },
  {
   "cell_type": "code",
   "execution_count": 8,
   "metadata": {},
   "outputs": [],
   "source": [
    "# E(m3) \n",
    "eq1 = -m3 + (1*n*mu3**1 ) / n**1 - 3* (1*n*mu3**1 ) / n**2 + 2* (1*n*mu3**1 ) / n**3"
   ]
  },
  {
   "cell_type": "code",
   "execution_count": 9,
   "metadata": {},
   "outputs": [],
   "source": [
    "# solve for mu3"
   ]
  },
  {
   "cell_type": "code",
   "execution_count": null,
   "metadata": {
    "collapsed": false,
    "jupyter": {
     "outputs_hidden": false
    }
   },
   "outputs": [],
   "source": [
    "sol = solve(eq1, mu3)\n",
    "# Unbiased estimate of mu3\n",
    "sol[0].factor()"
   ]
  },
  {
   "cell_type": "code",
   "execution_count": null,
   "metadata": {},
   "outputs": [],
   "source": [
    "#********************* 4th moment ************************#"
   ]
  },
  {
   "cell_type": "code",
   "execution_count": null,
   "metadata": {
    "collapsed": false,
    "jupyter": {
     "outputs_hidden": false
    }
   },
   "outputs": [],
   "source": [
    "# m4    biased (X_i - X_bar)**4\n",
    "# m2**2 biased\n",
    "((X_i - X_bar)**2*(X_j - X_bar)**2).expand()"
   ]
  },
  {
   "cell_type": "code",
   "execution_count": null,
   "metadata": {
    "collapsed": false,
    "jupyter": {
     "outputs_hidden": false
    }
   },
   "outputs": [],
   "source": [
    "%%capture\n",
    "%%R\n",
    "### for E(m4):\n",
    "paste(one_combination(c(0, 0, 0, 1)), \" - 4*\", one_combination(c(1, 0, 1)), \" + 6*\", one_combination(c(2, 1)), \n",
    "      \" - 3*\", one_combination(4), sep = \"\")"
   ]
  },
  {
   "cell_type": "code",
   "execution_count": null,
   "metadata": {
    "collapsed": false,
    "jupyter": {
     "outputs_hidden": false
    }
   },
   "outputs": [],
   "source": [
    "%%capture\n",
    "%%R\n",
    "### for E(m2**2):\n",
    "paste(one_combination(c(0, 2)), \" - 2*\", one_combination(c(2, 1)), \" + \", one_combination(4), sep = \"\")"
   ]
  },
  {
   "cell_type": "code",
   "execution_count": null,
   "metadata": {},
   "outputs": [],
   "source": [
    "# solve system of equations for mu4 and mu2**2"
   ]
  },
  {
   "cell_type": "code",
   "execution_count": null,
   "metadata": {
    "collapsed": false,
    "jupyter": {
     "outputs_hidden": false
    }
   },
   "outputs": [],
   "source": [
    "# E(m4)\n",
    "eq1 = -m4 + (1*n*mu4**1 ) / n**1 - 4* (1*n*mu4**1 ) / n**2 + 6* (1*n*(n-1)*mu2**2 + 1*n*mu4**1 ) / n**3 - 3* (3*n*(n-1)*mu2**2 + 1*n*mu4**1 ) / n**4\n",
    "# E(m2**2)\n",
    "eq2 = -m2**2 + (1*n*(n-1)*mu2**2 + 1*n*mu4**1 ) / n**2 - 2* (1*n*(n-1)*mu2**2 + 1*n*mu4**1 ) / n**3 +  (3*n*(n-1)*mu2**2 + 1*n*mu4**1 ) / n**4"
   ]
  },
  {
   "cell_type": "code",
   "execution_count": null,
   "metadata": {
    "collapsed": false,
    "jupyter": {
     "outputs_hidden": false
    }
   },
   "outputs": [],
   "source": [
    "sol = solve([eq1, eq2], mu4, mu2)  # list\n",
    "M4 = sol[0][0]\n",
    "M2pow2 = (sol[0][1]**2)"
   ]
  },
  {
   "cell_type": "code",
   "execution_count": null,
   "metadata": {
    "collapsed": false,
    "jupyter": {
     "outputs_hidden": false
    }
   },
   "outputs": [],
   "source": [
    "# Unbiased estimate of mu4\n",
    "sum(list(map(factor, M4.expand().collect(m4).collect(m2).args)))"
   ]
  },
  {
   "cell_type": "code",
   "execution_count": null,
   "metadata": {
    "collapsed": false,
    "jupyter": {
     "outputs_hidden": false
    }
   },
   "outputs": [],
   "source": [
    "# Unbiased estimate of mu2**2\n",
    "sum(list(map(factor, M2pow2.expand().collect(m4).collect(m2).args)))"
   ]
  },
  {
   "cell_type": "code",
   "execution_count": null,
   "metadata": {},
   "outputs": [],
   "source": [
    "#********************* 5th moment ************************#"
   ]
  },
  {
   "cell_type": "code",
   "execution_count": null,
   "metadata": {
    "collapsed": false,
    "jupyter": {
     "outputs_hidden": false
    }
   },
   "outputs": [],
   "source": [
    "# m5    biased (X_i - X_bar)**5\n",
    "# m2*m3 biased\n",
    "((X_i - X_bar)**2*(X_j - X_bar)**3).expand()"
   ]
  },
  {
   "cell_type": "code",
   "execution_count": null,
   "metadata": {
    "collapsed": false,
    "jupyter": {
     "outputs_hidden": false
    }
   },
   "outputs": [],
   "source": [
    "%%capture\n",
    "%%R\n",
    "### for E(m5):\n",
    "paste(one_combination(c(rep(0, 4), 1)), \" - 5*\", one_combination(c(1, 0, 0, 1)), \" + 10*\", \n",
    "      one_combination(c(2, 0, 1)), \" - 10*\", one_combination(c(3, 1)), \" + 4*\", one_combination(5), sep = \"\")"
   ]
  },
  {
   "cell_type": "code",
   "execution_count": null,
   "metadata": {
    "collapsed": false,
    "jupyter": {
     "outputs_hidden": false
    }
   },
   "outputs": [],
   "source": [
    "%%capture\n",
    "%%R\n",
    "### for E(m2*m3):\n",
    "paste(one_combination(c(0, 1, 1)), \" - \", one_combination(c(2, 0, 1)), \" - 3*\", one_combination(c(1, 2)), \" + 5*\",\n",
    "      one_combination(c(3, 1)), \" - 2*\", one_combination(5), sep = \"\")"
   ]
  },
  {
   "cell_type": "code",
   "execution_count": null,
   "metadata": {},
   "outputs": [],
   "source": [
    "# solve system of equations for mu5 and mu2*mu3"
   ]
  },
  {
   "cell_type": "code",
   "execution_count": null,
   "metadata": {
    "collapsed": false,
    "jupyter": {
     "outputs_hidden": false
    }
   },
   "outputs": [],
   "source": [
    "# E(m5)\n",
    "eq1 = -m5 + (1*n*mu5**1 ) / n**1 - 5* (1*n*mu5**1 ) / n**2 + 10* (1*n*(n-1)*mu3**1*mu2**1 + 1*n*mu5**1 ) / n**3 - 10* (4*n*(n-1)*mu3**1*mu2**1 + 1*n*mu5**1 ) / n**4 + 4* (10*n*(n-1)*mu3**1*mu2**1 +  1*n*mu5**1 ) / n**5\n",
    "# E(m2*m3)\n",
    "eq2 = -m2*m3 + (1*n*(n-1)*mu3**1*mu2**1 + 1*n*mu5**1 ) / n**2 -  (1*n*(n-1)*mu3**1*mu2**1 + 1*n*mu5**1 ) / n**3 - 3* (2*n*(n-1)*mu3**1*mu2**1 + 1*n*mu5**1 ) / n**3 + 5* (4*n*(n-1)*mu3**1*mu2**1 + 1*n*mu5**1 ) / n**4 - 2* (10*n*(n-1)*mu3**1*mu2**1 +  1*n*mu5**1 ) / n**5"
   ]
  },
  {
   "cell_type": "code",
   "execution_count": null,
   "metadata": {
    "collapsed": false,
    "jupyter": {
     "outputs_hidden": false
    }
   },
   "outputs": [],
   "source": [
    "sol = solve([eq1, eq2], mu5, mu2*mu3)  # dictionary\n",
    "M5 = sol[mu5]\n",
    "M2M3 = sol[mu2*mu3]"
   ]
  },
  {
   "cell_type": "code",
   "execution_count": null,
   "metadata": {
    "collapsed": false,
    "jupyter": {
     "outputs_hidden": false
    }
   },
   "outputs": [],
   "source": [
    "# Unbiased estimate of mu5\n",
    "sum(list(map(factor, M5.expand().collect(m5).collect(m2*m3).args)))"
   ]
  },
  {
   "cell_type": "code",
   "execution_count": null,
   "metadata": {
    "collapsed": false,
    "jupyter": {
     "outputs_hidden": false
    }
   },
   "outputs": [],
   "source": [
    "# Unbiased estimate of mu2*mu3\n",
    "sum(list(map(factor, M2M3.expand().collect(m5).collect(m2*m3).args)))"
   ]
  },
  {
   "cell_type": "code",
   "execution_count": null,
   "metadata": {},
   "outputs": [],
   "source": [
    "#********************* 6th moment ************************#"
   ]
  },
  {
   "cell_type": "code",
   "execution_count": null,
   "metadata": {
    "collapsed": false,
    "jupyter": {
     "outputs_hidden": false
    }
   },
   "outputs": [],
   "source": [
    "# m6    biased (X_i - X_bar)**6\n",
    "# m2*m4 biased\n",
    "((X_i - X_bar)**2*(X_j - X_bar)**4).expand()"
   ]
  },
  {
   "cell_type": "code",
   "execution_count": null,
   "metadata": {
    "collapsed": false,
    "jupyter": {
     "outputs_hidden": false
    }
   },
   "outputs": [],
   "source": [
    "# m3**2 biased\n",
    "((X_i - X_bar)**3*(X_j - X_bar)**3).expand()"
   ]
  },
  {
   "cell_type": "code",
   "execution_count": null,
   "metadata": {
    "collapsed": false,
    "jupyter": {
     "outputs_hidden": false
    }
   },
   "outputs": [],
   "source": [
    "# m2**3 biased\n",
    "((X_i - X_bar)**2*(X_j - X_bar)**2*(X_k - X_bar)**2).expand()"
   ]
  },
  {
   "cell_type": "code",
   "execution_count": null,
   "metadata": {
    "collapsed": false,
    "jupyter": {
     "outputs_hidden": false
    }
   },
   "outputs": [],
   "source": [
    "%%capture\n",
    "%%R\n",
    "### for E(m6):\n",
    "paste(one_combination(c(rep(0, 5), 1)), \" - 6*\", one_combination(c(1, 0, 0, 0, 1)), \" + 15*\", \n",
    "      one_combination(c(2, 0, 0, 1)), \" - 20*\", one_combination(c(3, 0, 1)), \" + 15*\", one_combination(c(4, 1)), \n",
    "      \" - 5*\", one_combination(6), sep = \"\")"
   ]
  },
  {
   "cell_type": "code",
   "execution_count": null,
   "metadata": {
    "collapsed": false,
    "jupyter": {
     "outputs_hidden": false
    }
   },
   "outputs": [],
   "source": [
    "%%capture\n",
    "%%R\n",
    "### for E(m2*m4):\n",
    "paste(one_combination(c(0, 1, 0, 1)), \" - \", one_combination(c(2, 0, 0, 1)), \" - 4*\", one_combination(c(1, 1, 1)), \n",
    "      \" + 4*\", one_combination(c(3, 0, 1)), \" + 6*\", one_combination(c(2, 2)), \" - 9*\", one_combination(c(4, 1)), \n",
    "      \" + 3*\", one_combination(6), sep = \"\")"
   ]
  },
  {
   "cell_type": "code",
   "execution_count": null,
   "metadata": {
    "collapsed": false,
    "jupyter": {
     "outputs_hidden": false
    }
   },
   "outputs": [],
   "source": [
    "%%capture\n",
    "%%R\n",
    "### for E(m3**2):\n",
    "paste(one_combination(c(0, 0, 2)), \" - 6*\", one_combination(c(1, 1, 1)), \" + 4*\", one_combination(c(3, 0, 1)), \n",
    "      \" + 9*\", one_combination(c(2, 2)), \" - 12*\", one_combination(c(4, 1)), \" + 4*\", one_combination(6), sep = \"\")"
   ]
  },
  {
   "cell_type": "code",
   "execution_count": null,
   "metadata": {
    "collapsed": false,
    "jupyter": {
     "outputs_hidden": false
    }
   },
   "outputs": [],
   "source": [
    "%%capture\n",
    "%%R\n",
    "### for E(m2**3):\n",
    "paste(one_combination(c(0, 3)), \" - 3*\", one_combination(c(2, 2)), \" + 3*\", one_combination(c(4, 1)), \" - \",\n",
    "      one_combination(6), sep = \"\")  "
   ]
  },
  {
   "cell_type": "code",
   "execution_count": null,
   "metadata": {},
   "outputs": [],
   "source": [
    "# solve system of equations for mu6, mu2*mu4, mu3**2, mu2**3"
   ]
  },
  {
   "cell_type": "code",
   "execution_count": null,
   "metadata": {},
   "outputs": [],
   "source": [
    "# E(m6):\n",
    "eq1 = -m6 + (1*n*mu6**1 ) / n**1 - 6* (1*n*mu6**1 ) / n**2 + 15* (1*n*(n-1)*mu4**1*mu2**1 + 1*n*mu6**1 ) / n**3 - 20* (3*n*(n-1)*mu4**1*mu2**1 + 1*n*(n-1)*mu3**2 + 1*n*mu6**1 ) / n**4 + 15* (3*n*(n-1)*(n-2)*mu2**3 + 7*n*(n-1)*mu4**1*mu2**1 + 4*n*(n-1)*mu3**2 + 1*n*mu6**1 ) / n**5 - 5* (15*n*(n-1)*(n-2)*mu2**3 + 15*n*(n-1)*mu4**1*mu2**1 + 10*n*(n-1)*mu3**2 +  1*n*mu6**1 ) / n**6\n",
    "# E(m2*m3):\n",
    "eq2 = -m2*m4 + (1*n*(n-1)*mu4**1*mu2**1 + 1*n*mu6**1 ) / n**2 -  (1*n*(n-1)*mu4**1*mu2**1 + 1*n*mu6**1 ) / n**3 - 4* (1*n*(n-1)*mu4**1*mu2**1 + 1*n*(n-1)*mu3**2 + 1*n*mu6**1 ) / n**3 + 4* (3*n*(n-1)*mu4**1*mu2**1 + 1*n*(n-1)*mu3**2 + 1*n*mu6**1 ) / n**4 + 6* (1*n*(n-1)*(n-2)*mu2**3 + 3*n*(n-1)*mu4**1*mu2**1 + 2*n*(n-1)*mu3**2 + 1*n*mu6**1 ) / n**4 - 9* (3*n*(n-1)*(n-2)*mu2**3 + 7*n*(n-1)*mu4**1*mu2**1 + 4*n*(n-1)*mu3**2 + 1*n*mu6**1 ) / n**5 + 3* (15*n*(n-1)*(n-2)*mu2**3 + 15*n*(n-1)*mu4**1*mu2**1 + 10*n*(n-1)*mu3**2 +  1*n*mu6**1 ) / n**6\n",
    "# E(m3**2)\n",
    "eq3 = -m3**2 + (1*n*(n-1)*mu3**2 + 1*n*mu6**1 ) / n**2 - 6* (1*n*(n-1)*mu4**1*mu2**1 + 1*n*(n-1)*mu3**2 + 1*n*mu6**1 ) / n**3 + 4* (3*n*(n-1)*mu4**1*mu2**1 + 1*n*(n-1)*mu3**2 + 1*n*mu6**1 ) / n**4 + 9* (1*n*(n-1)*(n-2)*mu2**3 + 3*n*(n-1)*mu4**1*mu2**1 + 2*n*(n-1)*mu3**2 + 1*n*mu6**1 ) / n**4 - 12* (3*n*(n-1)*(n-2)*mu2**3 + 7*n*(n-1)*mu4**1*mu2**1 + 4*n*(n-1)*mu3**2 + 1*n*mu6**1 ) / n**5 + 4* (15*n*(n-1)*(n-2)*mu2**3 + 15*n*(n-1)*mu4**1*mu2**1 + 10*n*(n-1)*mu3**2 +  1*n*mu6**1 ) / n**6\n",
    "# E(m2**3)\n",
    "eq4 = -m2**3 + (1*n*(n-1)*(n-2)*mu2**3 + 3*n*(n-1)*mu4**1*mu2**1 + 1*n*mu6**1 ) / n**3 - 3* (1*n*(n-1)*(n-2)*mu2**3 + 3*n*(n-1)*mu4**1*mu2**1 + 2*n*(n-1)*mu3**2 + 1*n*mu6**1 ) / n**4 + 3* (3*n*(n-1)*(n-2)*mu2**3 + 7*n*(n-1)*mu4**1*mu2**1 + 4*n*(n-1)*mu3**2 + 1*n*mu6**1 ) / n**5 -  (15*n*(n-1)*(n-2)*mu2**3 + 15*n*(n-1)*mu4**1*mu2**1 + 10*n*(n-1)*mu3**2 +  1*n*mu6**1 ) / n**6"
   ]
  },
  {
   "cell_type": "code",
   "execution_count": null,
   "metadata": {
    "collapsed": false,
    "jupyter": {
     "outputs_hidden": false
    }
   },
   "outputs": [],
   "source": [
    "sol = solve([eq1, eq2, eq3, eq4], mu6, mu2*mu4, mu3**2, mu2**3)\n",
    "M6 = sol[mu6]\n",
    "M2M4 = sol[mu2*mu4]\n",
    "M3pow2 = sol[mu3**2]\n",
    "M2pow3 = sol[mu2**3]"
   ]
  },
  {
   "cell_type": "code",
   "execution_count": null,
   "metadata": {
    "collapsed": false,
    "jupyter": {
     "outputs_hidden": false
    }
   },
   "outputs": [],
   "source": [
    "# Unbiased estimate of mu6\n",
    "sum(list(map(factor, M6.expand().collect(m6).collect(m2*m4).collect(m3**2).collect(m2**3).args)))"
   ]
  },
  {
   "cell_type": "code",
   "execution_count": null,
   "metadata": {
    "collapsed": false,
    "jupyter": {
     "outputs_hidden": false
    }
   },
   "outputs": [],
   "source": [
    "# Unbiased estimate of mu2*mu4\n",
    "sum(list(map(factor, M2M4.expand().collect(m6).collect(m2*m4).collect(m3**2).collect(m2**3).args)))"
   ]
  },
  {
   "cell_type": "code",
   "execution_count": null,
   "metadata": {
    "collapsed": false,
    "jupyter": {
     "outputs_hidden": false
    }
   },
   "outputs": [],
   "source": [
    "# Unbiased estimate of mu3**2\n",
    "sum(list(map(factor, M3pow2.expand().collect(m6).collect(m2*m4).collect(m3**2).collect(m2**3).args)))"
   ]
  },
  {
   "cell_type": "code",
   "execution_count": null,
   "metadata": {
    "collapsed": false,
    "jupyter": {
     "outputs_hidden": false
    }
   },
   "outputs": [],
   "source": [
    "# Unbiased estimate of mu2**3\n",
    "sum(list(map(factor, M2pow3.expand().collect(m6).collect(m2*m4).collect(m3**2).collect(m2**3).args)))"
   ]
  },
  {
   "cell_type": "code",
   "execution_count": null,
   "metadata": {},
   "outputs": [],
   "source": []
  }
 ],
 "metadata": {
  "anaconda-cloud": {},
  "kernelspec": {
   "display_name": "Python 3 (ipykernel)",
   "language": "python",
   "name": "python3"
  },
  "language_info": {
   "codemirror_mode": {
    "name": "ipython",
    "version": 3
   },
   "file_extension": ".py",
   "mimetype": "text/x-python",
   "name": "python",
   "nbconvert_exporter": "python",
   "pygments_lexer": "ipython3",
   "version": "3.11.5"
  }
 },
 "nbformat": 4,
 "nbformat_minor": 4
}
