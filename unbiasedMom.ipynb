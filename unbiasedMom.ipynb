{
 "cells": [
  {
   "cell_type": "code",
   "execution_count": 1,
   "metadata": {
    "collapsed": false
   },
   "outputs": [],
   "source": [
    "from sympy import *\n",
    "import numpy as np\n",
    "init_printing(use_unicode = True)\n",
    "%load_ext rpy2.ipython "
   ]
  },
  {
   "cell_type": "code",
   "execution_count": 2,
   "metadata": {
    "collapsed": true
   },
   "outputs": [],
   "source": [
    "%%R\n",
    "source(\"functionsGenerateEdge.R\")"
   ]
  },
  {
   "cell_type": "code",
   "execution_count": 3,
   "metadata": {
    "collapsed": true
   },
   "outputs": [],
   "source": [
    "n, mu1, mu2, mu3, mu4, mu5, mu6, mu7, m2, m3, m4, m5, m6, m23, m24, m32, mu22, mu23, mu24, mu32, X_i, X_j, X_k, X_bar = var('n, mu1, mu2, mu3, mu4, mu5, mu6, mu7, m2, m3, m4, m5, m6, m23, m24, m32, mu22, mu23, mu24, mu32, X_i, X_j, X_k, X_bar')"
   ]
  },
  {
   "cell_type": "code",
   "execution_count": 4,
   "metadata": {
    "collapsed": true
   },
   "outputs": [],
   "source": [
    "#********************* 3rd moment ************************#"
   ]
  },
  {
   "cell_type": "code",
   "execution_count": 5,
   "metadata": {
    "collapsed": false
   },
   "outputs": [],
   "source": [
    "# m3 biased (X_i - X_bar)**3"
   ]
  },
  {
   "cell_type": "code",
   "execution_count": 6,
   "metadata": {
    "collapsed": false
   },
   "outputs": [
    {
     "data": {
      "text/plain": [
       "[1] \" (1*n*mu3^1 ) / n^1 - 3* (1*n*mu3^1 ) / n^2 + 2* (1*n*mu3^1 ) / n^3\"\n"
      ]
     },
     "metadata": {},
     "output_type": "display_data"
    }
   ],
   "source": [
    "%%R\n",
    "### for E(m3):\n",
    "paste(one_combination(c(0, 0, 1)), \" - 3*\", one_combination(c(1, 1)), \" + 2*\", one_combination(3), sep = \"\")\n",
    "# note that parentheses are not needed here (but in general should be inserted for safety)"
   ]
  },
  {
   "cell_type": "code",
   "execution_count": 7,
   "metadata": {
    "collapsed": true
   },
   "outputs": [],
   "source": [
    "# E(m3) (need to change \"power\" symbol)\n",
    "eq1 = -m3 + (1*n*mu3**1 ) / n**1 - 3* (1*n*mu3**1 ) / n**2 + 2* (1*n*mu3**1 ) / n**3"
   ]
  },
  {
   "cell_type": "code",
   "execution_count": 8,
   "metadata": {
    "collapsed": true
   },
   "outputs": [],
   "source": [
    "# solve for mu3"
   ]
  },
  {
   "cell_type": "code",
   "execution_count": 9,
   "metadata": {
    "collapsed": false
   },
   "outputs": [
    {
     "data": {
      "image/png": "[encoded data removed]",
      "text/latex": [
       "$$\\frac{m_{3} n^{2}}{\\left(n - 2\\right) \\left(n - 1\\right)}$$"
      ],
      "text/plain": [
       "         2     \n",
       "     m₃⋅n      \n",
       "───────────────\n",
       "(n - 2)⋅(n - 1)"
      ]
     },
     "execution_count": 9,
     "metadata": {},
     "output_type": "execute_result"
    }
   ],
   "source": [
    "sol = solve(eq1, mu3)\n",
    "# Unbiased estimate for mu3\n",
    "sol[0].factor()"
   ]
  },
  {
   "cell_type": "code",
   "execution_count": 10,
   "metadata": {
    "collapsed": true
   },
   "outputs": [],
   "source": [
    "#********************* 4th moment ************************#"
   ]
  },
  {
   "cell_type": "code",
   "execution_count": 11,
   "metadata": {
    "collapsed": false
   },
   "outputs": [
    {
     "data": {
      "image/png": "[encoded data removed]",
      "text/latex": [
       "$$X_{bar}^{4} - 2 X_{bar}^{3} X_{i} - 2 X_{bar}^{3} X_{j} + X_{bar}^{2} X_{i}^{2} + 4 X_{bar}^{2} X_{i} X_{j} + X_{bar}^{2} X_{j}^{2} - 2 X_{bar} X_{i}^{2} X_{j} - 2 X_{bar} X_{i} X_{j}^{2} + X_{i}^{2} X_{j}^{2}$$"
      ],
      "text/plain": [
       "     4          3             3            2   2          2               2   \n",
       "X_bar  - 2⋅X_bar ⋅Xᵢ - 2⋅X_bar ⋅X_j + X_bar ⋅Xᵢ  + 4⋅X_bar ⋅Xᵢ⋅X_j + X_bar ⋅X_\n",
       "\n",
       " 2             2                     2     2    2\n",
       "j  - 2⋅X_bar⋅Xᵢ ⋅X_j - 2⋅X_bar⋅Xᵢ⋅X_j  + Xᵢ ⋅X_j "
      ]
     },
     "execution_count": 11,
     "metadata": {},
     "output_type": "execute_result"
    }
   ],
   "source": [
    "# m4    biased (X_i - X_bar)**4\n",
    "# m2**2 biased\n",
    "((X_i - X_bar)**2*(X_j - X_bar)**2).expand()"
   ]
  },
  {
   "cell_type": "code",
   "execution_count": 12,
   "metadata": {
    "collapsed": false
   },
   "outputs": [
    {
     "data": {
      "text/plain": [
       "[1] \" (1*n*mu4^1 ) / n^1 - 4* (1*n*mu4^1 ) / n^2 + 6* (1*n*(n-1)*mu2^2 + 1*n*mu4^1 ) / n^3 - 3* (3*n*(n-1)*mu2^2 + 1*n*mu4^1 ) / n^4\"\n"
      ]
     },
     "metadata": {},
     "output_type": "display_data"
    }
   ],
   "source": [
    "%%R\n",
    "### for E(m4):\n",
    "paste(one_combination(c(0, 0, 0, 1)), \" - 4*\", one_combination(c(1, 0, 1)), \" + 6*\", one_combination(c(2, 1)), \n",
    "      \" - 3*\", one_combination(4), sep = \"\")"
   ]
  },
  {
   "cell_type": "code",
   "execution_count": 13,
   "metadata": {
    "collapsed": false
   },
   "outputs": [
    {
     "data": {
      "text/plain": [
       "[1] \" (1*n*(n-1)*mu2^2 + 1*n*mu4^1 ) / n^2 - 2* (1*n*(n-1)*mu2^2 + 1*n*mu4^1 ) / n^3 +  (3*n*(n-1)*mu2^2 + 1*n*mu4^1 ) / n^4\"\n"
      ]
     },
     "metadata": {},
     "output_type": "display_data"
    }
   ],
   "source": [
    "%%R\n",
    "### for E(m2**2):\n",
    "paste(one_combination(c(0, 2)), \" - 2*\", one_combination(c(2, 1)), \" + \", one_combination(4), sep = \"\")"
   ]
  },
  {
   "cell_type": "code",
   "execution_count": 14,
   "metadata": {
    "collapsed": true
   },
   "outputs": [],
   "source": [
    "# solve system of equations for mu4 and mu2**2"
   ]
  },
  {
   "cell_type": "code",
   "execution_count": 15,
   "metadata": {
    "collapsed": false
   },
   "outputs": [],
   "source": [
    "# E(m4)\n",
    "eq1 = -m4 + (1*n*mu4**1 ) / n**1 - 4* (1*n*mu4**1 ) / n**2 + 6* (1*n*(n-1)*mu2**2 + 1*n*mu4**1 ) / n**3 - 3* (3*n*(n-1)*mu2**2 + 1*n*mu4**1 ) / n**4\n",
    "# E(m2**2)\n",
    "eq2 = -m2**2 + (1*n*(n-1)*mu2**2 + 1*n*mu4**1 ) / n**2 - 2* (1*n*(n-1)*mu2**2 + 1*n*mu4**1 ) / n**3 +  (3*n*(n-1)*mu2**2 + 1*n*mu4**1 ) / n**4"
   ]
  },
  {
   "cell_type": "code",
   "execution_count": 16,
   "metadata": {
    "collapsed": false
   },
   "outputs": [],
   "source": [
    "sol = solve([eq1, eq2], mu4, mu2)  # list\n",
    "M4 = sol[0][0]\n",
    "M2pow2 = (sol[0][1]**2)"
   ]
  },
  {
   "cell_type": "code",
   "execution_count": 17,
   "metadata": {
    "collapsed": false
   },
   "outputs": [
    {
     "data": {
      "image/png": "[encoded data removed]",
      "text/latex": [
       "$$- \\frac{3 m_{2}^{2} n \\left(2 n - 3\\right)}{\\left(n - 3\\right) \\left(n - 2\\right) \\left(n - 1\\right)} + \\frac{m_{4} n \\left(n^{2} - 2 n + 3\\right)}{\\left(n - 3\\right) \\left(n - 2\\right) \\left(n - 1\\right)}$$"
      ],
      "text/plain": [
       "         2                         ⎛ 2          ⎞  \n",
       "     3⋅m₂ ⋅n⋅(2⋅n - 3)        m₄⋅n⋅⎝n  - 2⋅n + 3⎠  \n",
       "- ─────────────────────── + ───────────────────────\n",
       "  (n - 3)⋅(n - 2)⋅(n - 1)   (n - 3)⋅(n - 2)⋅(n - 1)"
      ]
     },
     "execution_count": 17,
     "metadata": {},
     "output_type": "execute_result"
    }
   ],
   "source": [
    "# Unbiased estimate for mu4\n",
    "sum(list(map(factor, M4.expand().collect(m4).collect(m2).args)))"
   ]
  },
  {
   "cell_type": "code",
   "execution_count": 18,
   "metadata": {
    "collapsed": false
   },
   "outputs": [
    {
     "data": {
      "image/png": "[encoded data removed]",
      "text/latex": [
       "$$\\frac{m_{2}^{2} n \\left(n^{2} - 3 n + 3\\right)}{\\left(n - 3\\right) \\left(n - 2\\right) \\left(n - 1\\right)} - \\frac{m_{4} n}{\\left(n - 3\\right) \\left(n - 2\\right)}$$"
      ],
      "text/plain": [
       "    2   ⎛ 2          ⎞                   \n",
       "  m₂ ⋅n⋅⎝n  - 3⋅n + 3⎠          m₄⋅n     \n",
       "─────────────────────── - ───────────────\n",
       "(n - 3)⋅(n - 2)⋅(n - 1)   (n - 3)⋅(n - 2)"
      ]
     },
     "execution_count": 18,
     "metadata": {},
     "output_type": "execute_result"
    }
   ],
   "source": [
    "# Unbiased estimate for mu2**2\n",
    "sum(list(map(factor, M2pow2.expand().collect(m4).collect(m2).args)))"
   ]
  },
  {
   "cell_type": "code",
   "execution_count": 19,
   "metadata": {
    "collapsed": true
   },
   "outputs": [],
   "source": [
    "#********************* 5th moment ************************#"
   ]
  },
  {
   "cell_type": "code",
   "execution_count": 20,
   "metadata": {
    "collapsed": false
   },
   "outputs": [
    {
     "data": {
      "image/png": "[encoded data removed]",
      "text/latex": [
       "$$- X_{bar}^{5} + 2 X_{bar}^{4} X_{i} + 3 X_{bar}^{4} X_{j} - X_{bar}^{3} X_{i}^{2} - 6 X_{bar}^{3} X_{i} X_{j} - 3 X_{bar}^{3} X_{j}^{2} + 3 X_{bar}^{2} X_{i}^{2} X_{j} + 6 X_{bar}^{2} X_{i} X_{j}^{2} + X_{bar}^{2} X_{j}^{3} - 3 X_{bar} X_{i}^{2} X_{j}^{2} - 2 X_{bar} X_{i} X_{j}^{3} + X_{i}^{2} X_{j}^{3}$$"
      ],
      "text/plain": [
       "       5          4             4            3   2          3                 \n",
       "- X_bar  + 2⋅X_bar ⋅Xᵢ + 3⋅X_bar ⋅X_j - X_bar ⋅Xᵢ  - 6⋅X_bar ⋅Xᵢ⋅X_j - 3⋅X_bar\n",
       "\n",
       "3    2          2   2              2       2        2    3             2    2 \n",
       " ⋅X_j  + 3⋅X_bar ⋅Xᵢ ⋅X_j + 6⋅X_bar ⋅Xᵢ⋅X_j  + X_bar ⋅X_j  - 3⋅X_bar⋅Xᵢ ⋅X_j  \n",
       "\n",
       "                3     2    3\n",
       "- 2⋅X_bar⋅Xᵢ⋅X_j  + Xᵢ ⋅X_j "
      ]
     },
     "execution_count": 20,
     "metadata": {},
     "output_type": "execute_result"
    }
   ],
   "source": [
    "# m5    biased (X_i - X_bar)**5\n",
    "# m2*m3 biased\n",
    "((X_i - X_bar)**2*(X_j - X_bar)**3).expand()"
   ]
  },
  {
   "cell_type": "code",
   "execution_count": 21,
   "metadata": {
    "collapsed": false
   },
   "outputs": [
    {
     "data": {
      "text/plain": [
       "[1] \" (1*n*mu5^1 ) / n^1 - 5* (1*n*mu5^1 ) / n^2 + 10* (1*n*(n-1)*mu3^1*mu2^1 + 1*n*mu5^1 ) / n^3 - 10* (4*n*(n-1)*mu3^1*mu2^1 + 1*n*mu5^1 ) / n^4 + 4* (10*n*(n-1)*mu3^1*mu2^1 +  1*n*mu5^1 ) / n^5\"\n"
      ]
     },
     "metadata": {},
     "output_type": "display_data"
    }
   ],
   "source": [
    "%%R\n",
    "### for E(m5):\n",
    "paste(one_combination(c(rep(0, 4), 1)), \" - 5*\", one_combination(c(1, 0, 0, 1)), \" + 10*\", \n",
    "      one_combination(c(2, 0, 1)), \" - 10*\", one_combination(c(3, 1)), \" + 4*\", one_combination(5), sep = \"\")"
   ]
  },
  {
   "cell_type": "code",
   "execution_count": 22,
   "metadata": {
    "collapsed": false
   },
   "outputs": [
    {
     "data": {
      "text/plain": [
       "[1] \" (1*n*(n-1)*mu3^1*mu2^1 + 1*n*mu5^1 ) / n^2 -  (1*n*(n-1)*mu3^1*mu2^1 + 1*n*mu5^1 ) / n^3 - 3* (2*n*(n-1)*mu3^1*mu2^1 + 1*n*mu5^1 ) / n^3 + 5* (4*n*(n-1)*mu3^1*mu2^1 + 1*n*mu5^1 ) / n^4 - 2* (10*n*(n-1)*mu3^1*mu2^1 +  1*n*mu5^1 ) / n^5\"\n"
      ]
     },
     "metadata": {},
     "output_type": "display_data"
    }
   ],
   "source": [
    "%%R\n",
    "### for E(m2*m3):\n",
    "paste(one_combination(c(0, 1, 1)), \" - \", one_combination(c(2, 0, 1)), \" - 3*\", one_combination(c(1, 2)), \" + 5*\",\n",
    "      one_combination(c(3, 1)), \" - 2*\", one_combination(5), sep = \"\")"
   ]
  },
  {
   "cell_type": "code",
   "execution_count": 23,
   "metadata": {
    "collapsed": true
   },
   "outputs": [],
   "source": [
    "# solve system of equations for mu5 and mu2*mu3"
   ]
  },
  {
   "cell_type": "code",
   "execution_count": 24,
   "metadata": {
    "collapsed": false
   },
   "outputs": [],
   "source": [
    "# E(m5)\n",
    "eq1 = -m5 + (1*n*mu5**1 ) / n**1 - 5* (1*n*mu5**1 ) / n**2 + 10* (1*n*(n-1)*mu3**1*mu2**1 + 1*n*mu5**1 ) / n**3 - 10* (4*n*(n-1)*mu3**1*mu2**1 + 1*n*mu5**1 ) / n**4 + 4* (10*n*(n-1)*mu3**1*mu2**1 +  1*n*mu5**1 ) / n**5\n",
    "# E(m2*m3)\n",
    "eq2 = -m2*m3 + (1*n*(n-1)*mu3**1*mu2**1 + 1*n*mu5**1 ) / n**2 -  (1*n*(n-1)*mu3**1*mu2**1 + 1*n*mu5**1 ) / n**3 - 3* (2*n*(n-1)*mu3**1*mu2**1 + 1*n*mu5**1 ) / n**3 + 5* (4*n*(n-1)*mu3**1*mu2**1 + 1*n*mu5**1 ) / n**4 - 2* (10*n*(n-1)*mu3**1*mu2**1 +  1*n*mu5**1 ) / n**5"
   ]
  },
  {
   "cell_type": "code",
   "execution_count": 25,
   "metadata": {
    "collapsed": false
   },
   "outputs": [],
   "source": [
    "sol = solve([eq1, eq2], mu5, mu2*mu3)  # dictionary\n",
    "M5 = sol[mu5]\n",
    "M2M3 = sol[mu2*mu3]"
   ]
  },
  {
   "cell_type": "code",
   "execution_count": 26,
   "metadata": {
    "collapsed": false
   },
   "outputs": [
    {
     "data": {
      "image/png": "[encoded data removed]",
      "text/latex": [
       "$$- \\frac{10 m_{2} m_{3} n^{2}}{\\left(n - 4\\right) \\left(n - 3\\right) \\left(n - 1\\right)} + \\frac{m_{5} n^{2} \\left(n^{2} - 5 n + 10\\right)}{\\left(n - 4\\right) \\left(n - 3\\right) \\left(n - 2\\right) \\left(n - 1\\right)}$$"
      ],
      "text/plain": [
       "                  2                  2 ⎛ 2           ⎞     \n",
       "        10⋅m₂⋅m₃⋅n               m₅⋅n ⋅⎝n  - 5⋅n + 10⎠     \n",
       "- ─────────────────────── + ───────────────────────────────\n",
       "  (n - 4)⋅(n - 3)⋅(n - 1)   (n - 4)⋅(n - 3)⋅(n - 2)⋅(n - 1)"
      ]
     },
     "execution_count": 26,
     "metadata": {},
     "output_type": "execute_result"
    }
   ],
   "source": [
    "# Unbiased estimate for mu5\n",
    "sum(list(map(factor, M5.expand().collect(m5).collect(m2*m3).args)))"
   ]
  },
  {
   "cell_type": "code",
   "execution_count": 27,
   "metadata": {
    "collapsed": false
   },
   "outputs": [
    {
     "data": {
      "image/png": "[encoded data removed]",
      "text/latex": [
       "$$\\frac{m_{2} m_{3} n^{2} \\left(n^{2} - 2 n + 2\\right)}{\\left(n - 4\\right) \\left(n - 3\\right) \\left(n - 2\\right) \\left(n - 1\\right)} - \\frac{m_{5} n^{2}}{\\left(n - 4\\right) \\left(n - 3\\right) \\left(n - 2\\right)}$$"
      ],
      "text/plain": [
       "           2 ⎛ 2          ⎞                    2         \n",
       "    m₂⋅m₃⋅n ⋅⎝n  - 2⋅n + 2⎠                m₅⋅n          \n",
       "─────────────────────────────── - ───────────────────────\n",
       "(n - 4)⋅(n - 3)⋅(n - 2)⋅(n - 1)   (n - 4)⋅(n - 3)⋅(n - 2)"
      ]
     },
     "execution_count": 27,
     "metadata": {},
     "output_type": "execute_result"
    }
   ],
   "source": [
    "# Unbiased estimate for mu2*mu3\n",
    "sum(list(map(factor, M2M3.expand().collect(m5).collect(m2*m3).args)))"
   ]
  },
  {
   "cell_type": "code",
   "execution_count": 28,
   "metadata": {
    "collapsed": true
   },
   "outputs": [],
   "source": [
    "#********************* 6th moment ************************#"
   ]
  },
  {
   "cell_type": "code",
   "execution_count": 29,
   "metadata": {
    "collapsed": false
   },
   "outputs": [
    {
     "data": {
      "image/png": "[encoded data removed]",
      "text/latex": [
       "$$X_{bar}^{6} - 2 X_{bar}^{5} X_{i} - 4 X_{bar}^{5} X_{j} + X_{bar}^{4} X_{i}^{2} + 8 X_{bar}^{4} X_{i} X_{j} + 6 X_{bar}^{4} X_{j}^{2} - 4 X_{bar}^{3} X_{i}^{2} X_{j} - 12 X_{bar}^{3} X_{i} X_{j}^{2} - 4 X_{bar}^{3} X_{j}^{3} + 6 X_{bar}^{2} X_{i}^{2} X_{j}^{2} + 8 X_{bar}^{2} X_{i} X_{j}^{3} + X_{bar}^{2} X_{j}^{4} - 4 X_{bar} X_{i}^{2} X_{j}^{3} - 2 X_{bar} X_{i} X_{j}^{4} + X_{i}^{2} X_{j}^{4}$$"
      ],
      "text/plain": [
       "     6          5             5            4   2          4                 4 \n",
       "X_bar  - 2⋅X_bar ⋅Xᵢ - 4⋅X_bar ⋅X_j + X_bar ⋅Xᵢ  + 8⋅X_bar ⋅Xᵢ⋅X_j + 6⋅X_bar ⋅\n",
       "\n",
       "   2          3   2               3       2          3    3          2   2    \n",
       "X_j  - 4⋅X_bar ⋅Xᵢ ⋅X_j - 12⋅X_bar ⋅Xᵢ⋅X_j  - 4⋅X_bar ⋅X_j  + 6⋅X_bar ⋅Xᵢ ⋅X_j\n",
       "\n",
       "2          2       3        2    4             2    3                 4     2 \n",
       "  + 8⋅X_bar ⋅Xᵢ⋅X_j  + X_bar ⋅X_j  - 4⋅X_bar⋅Xᵢ ⋅X_j  - 2⋅X_bar⋅Xᵢ⋅X_j  + Xᵢ ⋅\n",
       "\n",
       "   4\n",
       "X_j "
      ]
     },
     "execution_count": 29,
     "metadata": {},
     "output_type": "execute_result"
    }
   ],
   "source": [
    "# m6    biased (X_i - X_bar)**6\n",
    "# m2*m4 biased\n",
    "((X_i - X_bar)**2*(X_j - X_bar)**4).expand()"
   ]
  },
  {
   "cell_type": "code",
   "execution_count": 30,
   "metadata": {
    "collapsed": false
   },
   "outputs": [
    {
     "data": {
      "image/png": "[encoded data removed]",
      "text/latex": [
       "$$X_{bar}^{6} - 3 X_{bar}^{5} X_{i} - 3 X_{bar}^{5} X_{j} + 3 X_{bar}^{4} X_{i}^{2} + 9 X_{bar}^{4} X_{i} X_{j} + 3 X_{bar}^{4} X_{j}^{2} - X_{bar}^{3} X_{i}^{3} - 9 X_{bar}^{3} X_{i}^{2} X_{j} - 9 X_{bar}^{3} X_{i} X_{j}^{2} - X_{bar}^{3} X_{j}^{3} + 3 X_{bar}^{2} X_{i}^{3} X_{j} + 9 X_{bar}^{2} X_{i}^{2} X_{j}^{2} + 3 X_{bar}^{2} X_{i} X_{j}^{3} - 3 X_{bar} X_{i}^{3} X_{j}^{2} - 3 X_{bar} X_{i}^{2} X_{j}^{3} + X_{i}^{3} X_{j}^{3}$$"
      ],
      "text/plain": [
       "     6          5             5              4   2          4                 \n",
       "X_bar  - 3⋅X_bar ⋅Xᵢ - 3⋅X_bar ⋅X_j + 3⋅X_bar ⋅Xᵢ  + 9⋅X_bar ⋅Xᵢ⋅X_j + 3⋅X_bar\n",
       "\n",
       "4    2        3   3          3   2              3       2        3    3       \n",
       " ⋅X_j  - X_bar ⋅Xᵢ  - 9⋅X_bar ⋅Xᵢ ⋅X_j - 9⋅X_bar ⋅Xᵢ⋅X_j  - X_bar ⋅X_j  + 3⋅X_\n",
       "\n",
       "   2   3              2   2    2          2       3             3    2        \n",
       "bar ⋅Xᵢ ⋅X_j + 9⋅X_bar ⋅Xᵢ ⋅X_j  + 3⋅X_bar ⋅Xᵢ⋅X_j  - 3⋅X_bar⋅Xᵢ ⋅X_j  - 3⋅X_b\n",
       "\n",
       "     2    3     3    3\n",
       "ar⋅Xᵢ ⋅X_j  + Xᵢ ⋅X_j "
      ]
     },
     "execution_count": 30,
     "metadata": {},
     "output_type": "execute_result"
    }
   ],
   "source": [
    "# m3**2 biased\n",
    "((X_i - X_bar)**3*(X_j - X_bar)**3).expand()"
   ]
  },
  {
   "cell_type": "code",
   "execution_count": 31,
   "metadata": {
    "collapsed": false
   },
   "outputs": [
    {
     "data": {
      "image/png": "[encoded data removed]",
      "text/latex": [
       "$$X_{bar}^{6} - 2 X_{bar}^{5} X_{i} - 2 X_{bar}^{5} X_{j} - 2 X_{bar}^{5} X_{k} + X_{bar}^{4} X_{i}^{2} + 4 X_{bar}^{4} X_{i} X_{j} + 4 X_{bar}^{4} X_{i} X_{k} + X_{bar}^{4} X_{j}^{2} + 4 X_{bar}^{4} X_{j} X_{k} + X_{bar}^{4} X_{k}^{2} - 2 X_{bar}^{3} X_{i}^{2} X_{j} - 2 X_{bar}^{3} X_{i}^{2} X_{k} - 2 X_{bar}^{3} X_{i} X_{j}^{2} - 8 X_{bar}^{3} X_{i} X_{j} X_{k} - 2 X_{bar}^{3} X_{i} X_{k}^{2} - 2 X_{bar}^{3} X_{j}^{2} X_{k} - 2 X_{bar}^{3} X_{j} X_{k}^{2} + X_{bar}^{2} X_{i}^{2} X_{j}^{2} + 4 X_{bar}^{2} X_{i}^{2} X_{j} X_{k} + X_{bar}^{2} X_{i}^{2} X_{k}^{2} + 4 X_{bar}^{2} X_{i} X_{j}^{2} X_{k} + 4 X_{bar}^{2} X_{i} X_{j} X_{k}^{2} + X_{bar}^{2} X_{j}^{2} X_{k}^{2} - 2 X_{bar} X_{i}^{2} X_{j}^{2} X_{k} - 2 X_{bar} X_{i}^{2} X_{j} X_{k}^{2} - 2 X_{bar} X_{i} X_{j}^{2} X_{k}^{2} + X_{i}^{2} X_{j}^{2} X_{k}^{2}$$"
      ],
      "text/plain": [
       "     6          5             5              5           4   2          4     \n",
       "X_bar  - 2⋅X_bar ⋅Xᵢ - 2⋅X_bar ⋅X_j - 2⋅X_bar ⋅Xₖ + X_bar ⋅Xᵢ  + 4⋅X_bar ⋅Xᵢ⋅X\n",
       "\n",
       "            4              4    2          4               4   2          3   \n",
       "_j + 4⋅X_bar ⋅Xᵢ⋅Xₖ + X_bar ⋅X_j  + 4⋅X_bar ⋅X_j⋅Xₖ + X_bar ⋅Xₖ  - 2⋅X_bar ⋅Xᵢ\n",
       "\n",
       "2              3   2             3       2          3                    3    \n",
       " ⋅X_j - 2⋅X_bar ⋅Xᵢ ⋅Xₖ - 2⋅X_bar ⋅Xᵢ⋅X_j  - 8⋅X_bar ⋅Xᵢ⋅X_j⋅Xₖ - 2⋅X_bar ⋅Xᵢ⋅\n",
       "\n",
       "  2          3    2             3       2        2   2    2          2   2    \n",
       "Xₖ  - 2⋅X_bar ⋅X_j ⋅Xₖ - 2⋅X_bar ⋅X_j⋅Xₖ  + X_bar ⋅Xᵢ ⋅X_j  + 4⋅X_bar ⋅Xᵢ ⋅X_j\n",
       "\n",
       "           2   2   2          2       2             2          2        2    2\n",
       "⋅Xₖ + X_bar ⋅Xᵢ ⋅Xₖ  + 4⋅X_bar ⋅Xᵢ⋅X_j ⋅Xₖ + 4⋅X_bar ⋅Xᵢ⋅X_j⋅Xₖ  + X_bar ⋅X_j \n",
       "\n",
       "   2             2    2                2       2                 2   2     2  \n",
       "⋅Xₖ  - 2⋅X_bar⋅Xᵢ ⋅X_j ⋅Xₖ - 2⋅X_bar⋅Xᵢ ⋅X_j⋅Xₖ  - 2⋅X_bar⋅Xᵢ⋅X_j ⋅Xₖ  + Xᵢ ⋅X\n",
       "\n",
       "  2   2\n",
       "_j ⋅Xₖ "
      ]
     },
     "execution_count": 31,
     "metadata": {},
     "output_type": "execute_result"
    }
   ],
   "source": [
    "# m2**3 biased\n",
    "((X_i - X_bar)**2*(X_j - X_bar)**2*(X_k - X_bar)**2).expand()"
   ]
  },
  {
   "cell_type": "code",
   "execution_count": 32,
   "metadata": {
    "collapsed": false
   },
   "outputs": [
    {
     "data": {
      "text/plain": [
       "[1] \" (1*n*mu6^1 ) / n^1 - 6* (1*n*mu6^1 ) / n^2 + 15* (1*n*(n-1)*mu4^1*mu2^1 + 1*n*mu6^1 ) / n^3 - 20* (3*n*(n-1)*mu4^1*mu2^1 + 1*n*(n-1)*mu3^2 + 1*n*mu6^1 ) / n^4 + 15* (3*n*(n-1)*(n-2)*mu2^3 + 7*n*(n-1)*mu4^1*mu2^1 + 4*n*(n-1)*mu3^2 + 1*n*mu6^1 ) / n^5 - 5* (15*n*(n-1)*(n-2)*mu2^3 + 15*n*(n-1)*mu4^1*mu2^1 + 10*n*(n-1)*mu3^2 +  1*n*mu6^1 ) / n^6\"\n"
      ]
     },
     "metadata": {},
     "output_type": "display_data"
    }
   ],
   "source": [
    "%%R\n",
    "### for E(m6):\n",
    "paste(one_combination(c(rep(0, 5), 1)), \" - 6*\", one_combination(c(1, 0, 0, 0, 1)), \" + 15*\", \n",
    "      one_combination(c(2, 0, 0, 1)), \" - 20*\", one_combination(c(3, 0, 1)), \" + 15*\", one_combination(c(4, 1)), \n",
    "      \" - 5*\", one_combination(6), sep = \"\")"
   ]
  },
  {
   "cell_type": "code",
   "execution_count": 33,
   "metadata": {
    "collapsed": false
   },
   "outputs": [
    {
     "data": {
      "text/plain": [
       "[1] \" (1*n*(n-1)*mu4^1*mu2^1 + 1*n*mu6^1 ) / n^2 -  (1*n*(n-1)*mu4^1*mu2^1 + 1*n*mu6^1 ) / n^3 - 4* (1*n*(n-1)*mu4^1*mu2^1 + 1*n*(n-1)*mu3^2 + 1*n*mu6^1 ) / n^3 + 4* (3*n*(n-1)*mu4^1*mu2^1 + 1*n*(n-1)*mu3^2 + 1*n*mu6^1 ) / n^4 + 6* (1*n*(n-1)*(n-2)*mu2^3 + 3*n*(n-1)*mu4^1*mu2^1 + 2*n*(n-1)*mu3^2 + 1*n*mu6^1 ) / n^4 - 9* (3*n*(n-1)*(n-2)*mu2^3 + 7*n*(n-1)*mu4^1*mu2^1 + 4*n*(n-1)*mu3^2 + 1*n*mu6^1 ) / n^5 + 3* (15*n*(n-1)*(n-2)*mu2^3 + 15*n*(n-1)*mu4^1*mu2^1 + 10*n*(n-1)*mu3^2 +  1*n*mu6^1 ) / n^6\"\n"
      ]
     },
     "metadata": {},
     "output_type": "display_data"
    }
   ],
   "source": [
    "%%R\n",
    "### for E(m2*m4):\n",
    "paste(one_combination(c(0, 1, 0, 1)), \" - \", one_combination(c(2, 0, 0, 1)), \" - 4*\", one_combination(c(1, 1, 1)), \n",
    "      \" + 4*\", one_combination(c(3, 0, 1)), \" + 6*\", one_combination(c(2, 2)), \" - 9*\", one_combination(c(4, 1)), \n",
    "      \" + 3*\", one_combination(6), sep = \"\")"
   ]
  },
  {
   "cell_type": "code",
   "execution_count": 34,
   "metadata": {
    "collapsed": false
   },
   "outputs": [
    {
     "data": {
      "text/plain": [
       "[1] \" (1*n*(n-1)*mu3^2 + 1*n*mu6^1 ) / n^2 - 6* (1*n*(n-1)*mu4^1*mu2^1 + 1*n*(n-1)*mu3^2 + 1*n*mu6^1 ) / n^3 + 4* (3*n*(n-1)*mu4^1*mu2^1 + 1*n*(n-1)*mu3^2 + 1*n*mu6^1 ) / n^4 + 9* (1*n*(n-1)*(n-2)*mu2^3 + 3*n*(n-1)*mu4^1*mu2^1 + 2*n*(n-1)*mu3^2 + 1*n*mu6^1 ) / n^4 - 12* (3*n*(n-1)*(n-2)*mu2^3 + 7*n*(n-1)*mu4^1*mu2^1 + 4*n*(n-1)*mu3^2 + 1*n*mu6^1 ) / n^5 + 4* (15*n*(n-1)*(n-2)*mu2^3 + 15*n*(n-1)*mu4^1*mu2^1 + 10*n*(n-1)*mu3^2 +  1*n*mu6^1 ) / n^6\"\n"
      ]
     },
     "metadata": {},
     "output_type": "display_data"
    }
   ],
   "source": [
    "%%R\n",
    "### for E(m3**2):\n",
    "paste(one_combination(c(0, 0, 2)), \" - 6*\", one_combination(c(1, 1, 1)), \" + 4*\", one_combination(c(3, 0, 1)), \n",
    "      \" + 9*\", one_combination(c(2, 2)), \" - 12*\", one_combination(c(4, 1)), \" + 4*\", one_combination(6), sep = \"\")"
   ]
  },
  {
   "cell_type": "code",
   "execution_count": 35,
   "metadata": {
    "collapsed": false
   },
   "outputs": [
    {
     "data": {
      "text/plain": [
       "[1] \" (1*n*(n-1)*(n-2)*mu2^3 + 3*n*(n-1)*mu4^1*mu2^1 + 1*n*mu6^1 ) / n^3 - 3* (1*n*(n-1)*(n-2)*mu2^3 + 3*n*(n-1)*mu4^1*mu2^1 + 2*n*(n-1)*mu3^2 + 1*n*mu6^1 ) / n^4 + 3* (3*n*(n-1)*(n-2)*mu2^3 + 7*n*(n-1)*mu4^1*mu2^1 + 4*n*(n-1)*mu3^2 + 1*n*mu6^1 ) / n^5 -  (15*n*(n-1)*(n-2)*mu2^3 + 15*n*(n-1)*mu4^1*mu2^1 + 10*n*(n-1)*mu3^2 +  1*n*mu6^1 ) / n^6\"\n"
      ]
     },
     "metadata": {},
     "output_type": "display_data"
    }
   ],
   "source": [
    "%%R\n",
    "### for E(m2**3):\n",
    "paste(one_combination(c(0, 3)), \" - 3*\", one_combination(c(2, 2)), \" + 3*\", one_combination(c(4, 1)), \" - \",\n",
    "      one_combination(6), sep = \"\")  "
   ]
  },
  {
   "cell_type": "code",
   "execution_count": 36,
   "metadata": {
    "collapsed": true
   },
   "outputs": [],
   "source": [
    "# solve system of equations for mu6, mu2*mu4, mu3**2, mu2**3"
   ]
  },
  {
   "cell_type": "code",
   "execution_count": 37,
   "metadata": {
    "collapsed": true
   },
   "outputs": [],
   "source": [
    "# E(m6):\n",
    "eq1 = -m6 + (1*n*mu6**1 ) / n**1 - 6* (1*n*mu6**1 ) / n**2 + 15* (1*n*(n-1)*mu4**1*mu2**1 + 1*n*mu6**1 ) / n**3 - 20* (3*n*(n-1)*mu4**1*mu2**1 + 1*n*(n-1)*mu3**2 + 1*n*mu6**1 ) / n**4 + 15* (3*n*(n-1)*(n-2)*mu2**3 + 7*n*(n-1)*mu4**1*mu2**1 + 4*n*(n-1)*mu3**2 + 1*n*mu6**1 ) / n**5 - 5* (15*n*(n-1)*(n-2)*mu2**3 + 15*n*(n-1)*mu4**1*mu2**1 + 10*n*(n-1)*mu3**2 +  1*n*mu6**1 ) / n**6\n",
    "# E(m2*m3):\n",
    "eq2 = -m2*m4 + (1*n*(n-1)*mu4**1*mu2**1 + 1*n*mu6**1 ) / n**2 -  (1*n*(n-1)*mu4**1*mu2**1 + 1*n*mu6**1 ) / n**3 - 4* (1*n*(n-1)*mu4**1*mu2**1 + 1*n*(n-1)*mu3**2 + 1*n*mu6**1 ) / n**3 + 4* (3*n*(n-1)*mu4**1*mu2**1 + 1*n*(n-1)*mu3**2 + 1*n*mu6**1 ) / n**4 + 6* (1*n*(n-1)*(n-2)*mu2**3 + 3*n*(n-1)*mu4**1*mu2**1 + 2*n*(n-1)*mu3**2 + 1*n*mu6**1 ) / n**4 - 9* (3*n*(n-1)*(n-2)*mu2**3 + 7*n*(n-1)*mu4**1*mu2**1 + 4*n*(n-1)*mu3**2 + 1*n*mu6**1 ) / n**5 + 3* (15*n*(n-1)*(n-2)*mu2**3 + 15*n*(n-1)*mu4**1*mu2**1 + 10*n*(n-1)*mu3**2 +  1*n*mu6**1 ) / n**6\n",
    "# E(m3**2)\n",
    "eq3 = -m3**2 + (1*n*(n-1)*mu3**2 + 1*n*mu6**1 ) / n**2 - 6* (1*n*(n-1)*mu4**1*mu2**1 + 1*n*(n-1)*mu3**2 + 1*n*mu6**1 ) / n**3 + 4* (3*n*(n-1)*mu4**1*mu2**1 + 1*n*(n-1)*mu3**2 + 1*n*mu6**1 ) / n**4 + 9* (1*n*(n-1)*(n-2)*mu2**3 + 3*n*(n-1)*mu4**1*mu2**1 + 2*n*(n-1)*mu3**2 + 1*n*mu6**1 ) / n**4 - 12* (3*n*(n-1)*(n-2)*mu2**3 + 7*n*(n-1)*mu4**1*mu2**1 + 4*n*(n-1)*mu3**2 + 1*n*mu6**1 ) / n**5 + 4* (15*n*(n-1)*(n-2)*mu2**3 + 15*n*(n-1)*mu4**1*mu2**1 + 10*n*(n-1)*mu3**2 +  1*n*mu6**1 ) / n**6\n",
    "# E(m2**3)\n",
    "eq4 = -m2**3 + (1*n*(n-1)*(n-2)*mu2**3 + 3*n*(n-1)*mu4**1*mu2**1 + 1*n*mu6**1 ) / n**3 - 3* (1*n*(n-1)*(n-2)*mu2**3 + 3*n*(n-1)*mu4**1*mu2**1 + 2*n*(n-1)*mu3**2 + 1*n*mu6**1 ) / n**4 + 3* (3*n*(n-1)*(n-2)*mu2**3 + 7*n*(n-1)*mu4**1*mu2**1 + 4*n*(n-1)*mu3**2 + 1*n*mu6**1 ) / n**5 -  (15*n*(n-1)*(n-2)*mu2**3 + 15*n*(n-1)*mu4**1*mu2**1 + 10*n*(n-1)*mu3**2 +  1*n*mu6**1 ) / n**6"
   ]
  },
  {
   "cell_type": "code",
   "execution_count": 39,
   "metadata": {
    "collapsed": false
   },
   "outputs": [],
   "source": [
    "sol = solve([eq1, eq2, eq3, eq4], mu6, mu2*mu4, mu3**2, mu2**3)\n",
    "M6 = sol[mu6]\n",
    "M2M4 = sol[mu2*mu4]\n",
    "M3pow2 = sol[mu3**2]\n",
    "M2pow3 = sol[mu2**3]"
   ]
  },
  {
   "cell_type": "code",
   "execution_count": 40,
   "metadata": {
    "collapsed": false
   },
   "outputs": [
    {
     "data": {
      "image/png": "[encoded data removed]",
      "text/latex": [
       "$$\\frac{15 m_{2}^{3} n^{2} \\left(3 n - 10\\right)}{\\left(n - 5\\right) \\left(n - 4\\right) \\left(n - 3\\right) \\left(n - 2\\right) \\left(n - 1\\right)} - \\frac{15 m_{2} m_{4} n \\left(n^{3} - 8 n^{2} + 29 n - 40\\right)}{\\left(n - 5\\right) \\left(n - 4\\right) \\left(n - 3\\right) \\left(n - 2\\right) \\left(n - 1\\right)} - \\frac{40 m_{3}^{2} n \\left(n^{2} - 6 n + 10\\right)}{\\left(n - 5\\right) \\left(n - 4\\right) \\left(n - 3\\right) \\left(n - 2\\right) \\left(n - 1\\right)} + \\frac{m_{6} n \\left(n^{4} - 9 n^{3} + 31 n^{2} - 39 n + 40\\right)}{\\left(n - 5\\right) \\left(n - 4\\right) \\left(n - 3\\right) \\left(n - 2\\right) \\left(n - 1\\right)}$$"
      ],
      "text/plain": [
       "               3  2                                     ⎛ 3      2            \n",
       "          15⋅m₂ ⋅n ⋅(3⋅n - 10)               15⋅m₂⋅m₄⋅n⋅⎝n  - 8⋅n  + 29⋅n - 40\n",
       "─────────────────────────────────────── - ────────────────────────────────────\n",
       "(n - 5)⋅(n - 4)⋅(n - 3)⋅(n - 2)⋅(n - 1)   (n - 5)⋅(n - 4)⋅(n - 3)⋅(n - 2)⋅(n -\n",
       "\n",
       "⎞                  2   ⎛ 2           ⎞                 ⎛ 4      3       2     \n",
       "⎠             40⋅m₃ ⋅n⋅⎝n  - 6⋅n + 10⎠            m₆⋅n⋅⎝n  - 9⋅n  + 31⋅n  - 39\n",
       "─── - ─────────────────────────────────────── + ──────────────────────────────\n",
       " 1)   (n - 5)⋅(n - 4)⋅(n - 3)⋅(n - 2)⋅(n - 1)   (n - 5)⋅(n - 4)⋅(n - 3)⋅(n - 2\n",
       "\n",
       "       ⎞ \n",
       "⋅n + 40⎠ \n",
       "─────────\n",
       ")⋅(n - 1)"
      ]
     },
     "execution_count": 40,
     "metadata": {},
     "output_type": "execute_result"
    }
   ],
   "source": [
    "# Unbiased estimate for mu6\n",
    "sum(list(map(factor, M6.expand().collect(m6).collect(m2*m4).collect(m3**2).collect(m2**3).args)))"
   ]
  },
  {
   "cell_type": "code",
   "execution_count": 41,
   "metadata": {
    "collapsed": false
   },
   "outputs": [
    {
     "data": {
      "image/png": "[encoded data removed]",
      "text/latex": [
       "$$- \\frac{3 m_{2}^{3} n^{2} \\left(2 n - 5\\right)}{\\left(n - 5\\right) \\left(n - 4\\right) \\left(n - 3\\right) \\left(n - 1\\right)} + \\frac{m_{2} m_{4} n \\left(n^{4} - 9 n^{3} + 53 n^{2} - 135 n + 120\\right)}{\\left(n - 5\\right) \\left(n - 4\\right) \\left(n - 3\\right) \\left(n - 2\\right) \\left(n - 1\\right)} + \\frac{4 m_{3}^{2} n \\left(n^{2} - 5 n + 10\\right)}{\\left(n - 5\\right) \\left(n - 4\\right) \\left(n - 3\\right) \\left(n - 1\\right)} - \\frac{m_{6} n \\left(n^{2} - 3 n + 8\\right)}{\\left(n - 5\\right) \\left(n - 4\\right) \\left(n - 3\\right) \\left(n - 2\\right)}$$"
      ],
      "text/plain": [
       "             3  2                           ⎛ 4      3       2              ⎞ \n",
       "         3⋅m₂ ⋅n ⋅(2⋅n - 5)         m₂⋅m₄⋅n⋅⎝n  - 9⋅n  + 53⋅n  - 135⋅n + 120⎠ \n",
       "- ─────────────────────────────── + ───────────────────────────────────────── \n",
       "  (n - 5)⋅(n - 4)⋅(n - 3)⋅(n - 1)    (n - 5)⋅(n - 4)⋅(n - 3)⋅(n - 2)⋅(n - 1)  \n",
       "\n",
       "          2   ⎛ 2           ⎞                  ⎛ 2          ⎞      \n",
       "      4⋅m₃ ⋅n⋅⎝n  - 5⋅n + 10⎠             m₆⋅n⋅⎝n  - 3⋅n + 8⎠      \n",
       "+ ─────────────────────────────── - ───────────────────────────────\n",
       "  (n - 5)⋅(n - 4)⋅(n - 3)⋅(n - 1)   (n - 5)⋅(n - 4)⋅(n - 3)⋅(n - 2)"
      ]
     },
     "execution_count": 41,
     "metadata": {},
     "output_type": "execute_result"
    }
   ],
   "source": [
    "# Unbiased estimate for mu2*mu4\n",
    "sum(list(map(factor, M2M4.expand().collect(m6).collect(m2*m4).collect(m3**2).collect(m2**3).args)))"
   ]
  },
  {
   "cell_type": "code",
   "execution_count": 42,
   "metadata": {
    "collapsed": false
   },
   "outputs": [
    {
     "data": {
      "image/png": "[encoded data removed]",
      "text/latex": [
       "$$- \\frac{3 m_{2}^{3} n^{2} \\left(3 n^{2} - 15 n + 20\\right)}{\\left(n - 5\\right) \\left(n - 4\\right) \\left(n - 3\\right) \\left(n - 2\\right) \\left(n - 1\\right)} + \\frac{3 m_{2} m_{4} n \\left(2 n^{3} - 5 n^{2} - 5 n + 20\\right)}{\\left(n - 5\\right) \\left(n - 4\\right) \\left(n - 3\\right) \\left(n - 2\\right) \\left(n - 1\\right)} + \\frac{m_{3}^{2} n \\left(n^{4} - 8 n^{3} + 25 n^{2} - 10 n - 40\\right)}{\\left(n - 5\\right) \\left(n - 4\\right) \\left(n - 3\\right) \\left(n - 2\\right) \\left(n - 1\\right)} - \\frac{m_{6} n \\left(n^{2} - n + 4\\right)}{\\left(n - 5\\right) \\left(n - 4\\right) \\left(n - 3\\right) \\left(n - 2\\right)}$$"
      ],
      "text/plain": [
       "            3  2 ⎛   2            ⎞                      ⎛   3      2         \n",
       "        3⋅m₂ ⋅n ⋅⎝3⋅n  - 15⋅n + 20⎠            3⋅m₂⋅m₄⋅n⋅⎝2⋅n  - 5⋅n  - 5⋅n + \n",
       "- ─────────────────────────────────────── + ──────────────────────────────────\n",
       "  (n - 5)⋅(n - 4)⋅(n - 3)⋅(n - 2)⋅(n - 1)   (n - 5)⋅(n - 4)⋅(n - 3)⋅(n - 2)⋅(n\n",
       "\n",
       "  ⎞        2   ⎛ 4      3       2            ⎞                ⎛ 2        ⎞    \n",
       "20⎠      m₃ ⋅n⋅⎝n  - 8⋅n  + 25⋅n  - 10⋅n - 40⎠           m₆⋅n⋅⎝n  - n + 4⎠    \n",
       "───── + ─────────────────────────────────────── - ────────────────────────────\n",
       " - 1)   (n - 5)⋅(n - 4)⋅(n - 3)⋅(n - 2)⋅(n - 1)   (n - 5)⋅(n - 4)⋅(n - 3)⋅(n -\n",
       "\n",
       "   \n",
       "   \n",
       "───\n",
       " 2)"
      ]
     },
     "execution_count": 42,
     "metadata": {},
     "output_type": "execute_result"
    }
   ],
   "source": [
    "# Unbiased estimate for mu3**2\n",
    "sum(list(map(factor, M3pow2.expand().collect(m6).collect(m2*m4).collect(m3**2).collect(m2**3).args)))"
   ]
  },
  {
   "cell_type": "code",
   "execution_count": 43,
   "metadata": {
    "collapsed": false
   },
   "outputs": [
    {
     "data": {
      "image/png": "[encoded data removed]",
      "text/latex": [
       "$$\\frac{m_{2}^{3} n^{2} \\left(n^{2} - 7 n + 15\\right)}{\\left(n - 5\\right) \\left(n - 4\\right) \\left(n - 3\\right) \\left(n - 1\\right)} - \\frac{3 m_{2} m_{4} n \\left(n^{2} - 5 n + 10\\right)}{\\left(n - 5\\right) \\left(n - 4\\right) \\left(n - 3\\right) \\left(n - 1\\right)} - \\frac{2 m_{3}^{2} n \\left(3 n^{2} - 15 n + 20\\right)}{\\left(n - 5\\right) \\left(n - 4\\right) \\left(n - 3\\right) \\left(n - 2\\right) \\left(n - 1\\right)} + \\frac{2 m_{6} n}{\\left(n - 5\\right) \\left(n - 4\\right) \\left(n - 3\\right)}$$"
      ],
      "text/plain": [
       "       3  2 ⎛ 2           ⎞                    ⎛ 2           ⎞                \n",
       "     m₂ ⋅n ⋅⎝n  - 7⋅n + 15⎠          3⋅m₂⋅m₄⋅n⋅⎝n  - 5⋅n + 10⎠             2⋅m\n",
       "─────────────────────────────── - ─────────────────────────────── - ──────────\n",
       "(n - 5)⋅(n - 4)⋅(n - 3)⋅(n - 1)   (n - 5)⋅(n - 4)⋅(n - 3)⋅(n - 1)   (n - 5)⋅(n\n",
       "\n",
       " 2   ⎛   2            ⎞                                \n",
       "₃ ⋅n⋅⎝3⋅n  - 15⋅n + 20⎠                  2⋅m₆⋅n        \n",
       "───────────────────────────── + ───────────────────────\n",
       " - 4)⋅(n - 3)⋅(n - 2)⋅(n - 1)   (n - 5)⋅(n - 4)⋅(n - 3)"
      ]
     },
     "execution_count": 43,
     "metadata": {},
     "output_type": "execute_result"
    }
   ],
   "source": [
    "# Unbiased estimate for mu2**3\n",
    "sum(list(map(factor, M2pow3.expand().collect(m6).collect(m2*m4).collect(m3**2).collect(m2**3).args)))"
   ]
  },
  {
   "cell_type": "code",
   "execution_count": null,
   "metadata": {
    "collapsed": true
   },
   "outputs": [],
   "source": []
  }
 ],
 "metadata": {
  "anaconda-cloud": {},
  "kernelspec": {
   "display_name": "Python [default]",
   "language": "python",
   "name": "python3"
  },
  "language_info": {
   "codemirror_mode": {
    "name": "ipython",
    "version": 3
   },
   "file_extension": ".py",
   "mimetype": "text/x-python",
   "name": "python",
   "nbconvert_exporter": "python",
   "pygments_lexer": "ipython3",
   "version": "3.5.2"
  }
 },
 "nbformat": 4,
 "nbformat_minor": 1
}
